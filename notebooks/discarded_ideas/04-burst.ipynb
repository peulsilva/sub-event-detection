{
 "cells": [
  {
   "cell_type": "code",
   "execution_count": 75,
   "metadata": {},
   "outputs": [
    {
     "name": "stdout",
     "output_type": "stream",
     "text": [
      "The autoreload extension is already loaded. To reload it, use:\n",
      "  %reload_ext autoreload\n"
     ]
    }
   ],
   "source": [
    "%load_ext autoreload\n",
    "%autoreload 2"
   ]
  },
  {
   "cell_type": "markdown",
   "metadata": {},
   "source": [
    "## Training Transformer"
   ]
  },
  {
   "cell_type": "code",
   "execution_count": 76,
   "metadata": {},
   "outputs": [],
   "source": [
    "import os\n",
    "while 'notebooks' in os.getcwd():\n",
    "    os.chdir(\"..\")\n",
    "\n",
    "import numpy as np\n",
    "import pandas as pd \n",
    "from src.utils import train_test_split, get_sample_weights, get_eval_set\n",
    "from src.preprocessing import preprocess_data\n",
    "from tqdm import tqdm\n",
    "import seaborn as sns\n",
    "import matplotlib.pyplot as plt\n",
    "from transformers import AutoModelForSequenceClassification, AutoTokenizer, AutoModel\n",
    "from src.preprocessing import TextDataset\n",
    "import torch\n",
    "from torch.utils.data import DataLoader, Dataset\n",
    "from IPython.display import clear_output\n",
    "from sklearn.metrics import accuracy_score, f1_score, confusion_matrix, precision_score, roc_auc_score\n",
    "from sentence_transformers import SentenceTransformer, InputExample, losses, evaluation, LoggingHandler\n",
    "import logging\n",
    "from copy import deepcopy\n",
    "from sklearn.decomposition import PCA\n",
    "from huggingface_hub import notebook_login\n",
    "from sklearn.ensemble import RandomForestClassifier\n",
    "from peft import get_peft_model, LoraConfig, TaskType\n",
    "from sklearn.utils.class_weight import compute_class_weight\n",
    "from collections import defaultdict\n",
    "import transformers\n",
    "from peft import get_peft_model, LoraConfig, TaskType\n",
    "import re\n",
    "from bert_score import BERTScorer\n",
    "import torch.nn as nn\n",
    "import torch.optim as optim\n",
    "\n",
    "from collections import defaultdict\n",
    "from torch.nn.utils.rnn import pad_sequence\n",
    "import nltk\n",
    "from nltk.tokenize import word_tokenize\n",
    "from src.path_reader import BASE_PATH_TRAIN\n",
    "\n",
    "\n",
    "from transformers import BitsAndBytesConfig\n",
    "\n",
    "tqdm.pandas()"
   ]
  },
  {
   "cell_type": "code",
   "execution_count": 77,
   "metadata": {},
   "outputs": [
    {
     "data": {
      "text/plain": [
       "['ArgentinaBelgium72.csv',\n",
       " 'ArgentinaGermanyFinal77.csv',\n",
       " 'AustraliaNetherlands29.csv',\n",
       " 'AustraliaSpain34.csv',\n",
       " 'BelgiumSouthKorea59.csv',\n",
       " 'CameroonBrazil36.csv',\n",
       " 'FranceGermany70.csv',\n",
       " 'FranceNigeria66.csv',\n",
       " 'GermanyAlgeria67.csv',\n",
       " 'GermanyBrazil74.csv',\n",
       " 'GermanyUSA57.csv',\n",
       " 'HondurasSwitzerland54.csv',\n",
       " 'MexicoCroatia37.csv',\n",
       " 'NetherlandsChile35.csv',\n",
       " 'PortugalGhana58.csv',\n",
       " 'USASlovenia2010.csv']"
      ]
     },
     "execution_count": 77,
     "metadata": {},
     "output_type": "execute_result"
    }
   ],
   "source": [
    "os.listdir(BASE_PATH_TRAIN)"
   ]
  },
  {
   "cell_type": "code",
   "execution_count": 105,
   "metadata": {},
   "outputs": [
    {
     "name": "stdout",
     "output_type": "stream",
     "text": [
      "\n",
      "\n",
      " File = ArgentinaBelgium72.csv\n",
      "1 0.4846153846153846\n",
      "[[25 27]\n",
      " [40 38]]\n"
     ]
    },
    {
     "name": "stderr",
     "output_type": "stream",
     "text": [
      "/tmp/ipykernel_630570/3482080844.py:8: FutureWarning: The provided callable <function mean at 0x7f78f8305da0> is currently using SeriesGroupBy.mean. In a future version of pandas, the provided callable will be used directly. To keep current behavior pass the string \"mean\" instead.\n",
      "  df = df.groupby(['MatchID', \"PeriodID\"], as_index=False).agg({\n"
     ]
    },
    {
     "name": "stdout",
     "output_type": "stream",
     "text": [
      "\n",
      "\n",
      " File = ArgentinaGermanyFinal77.csv\n",
      "1 0.5222222222222223\n",
      "[[60 56]\n",
      " [30 34]]\n",
      "\n",
      "\n",
      " File = AustraliaNetherlands29.csv\n",
      "1 0.7628865979381443\n",
      "[[34  8]\n",
      " [15 40]]\n"
     ]
    },
    {
     "name": "stderr",
     "output_type": "stream",
     "text": [
      "/tmp/ipykernel_630570/3482080844.py:8: FutureWarning: The provided callable <function mean at 0x7f78f8305da0> is currently using SeriesGroupBy.mean. In a future version of pandas, the provided callable will be used directly. To keep current behavior pass the string \"mean\" instead.\n",
      "  df = df.groupby(['MatchID', \"PeriodID\"], as_index=False).agg({\n",
      "/tmp/ipykernel_630570/3482080844.py:8: FutureWarning: The provided callable <function mean at 0x7f78f8305da0> is currently using SeriesGroupBy.mean. In a future version of pandas, the provided callable will be used directly. To keep current behavior pass the string \"mean\" instead.\n",
      "  df = df.groupby(['MatchID', \"PeriodID\"], as_index=False).agg({\n"
     ]
    },
    {
     "name": "stdout",
     "output_type": "stream",
     "text": [
      "\n",
      "\n",
      " File = AustraliaSpain34.csv\n",
      "1 0.7307692307692307\n",
      "[[41 11]\n",
      " [24 54]]\n",
      "\n",
      "\n",
      " File = BelgiumSouthKorea59.csv\n",
      "1 0.7153846153846154\n",
      "[[35  7]\n",
      " [30 58]]\n"
     ]
    },
    {
     "name": "stderr",
     "output_type": "stream",
     "text": [
      "/tmp/ipykernel_630570/3482080844.py:8: FutureWarning: The provided callable <function mean at 0x7f78f8305da0> is currently using SeriesGroupBy.mean. In a future version of pandas, the provided callable will be used directly. To keep current behavior pass the string \"mean\" instead.\n",
      "  df = df.groupby(['MatchID', \"PeriodID\"], as_index=False).agg({\n",
      "/tmp/ipykernel_630570/3482080844.py:8: FutureWarning: The provided callable <function mean at 0x7f78f8305da0> is currently using SeriesGroupBy.mean. In a future version of pandas, the provided callable will be used directly. To keep current behavior pass the string \"mean\" instead.\n",
      "  df = df.groupby(['MatchID', \"PeriodID\"], as_index=False).agg({\n"
     ]
    },
    {
     "name": "stdout",
     "output_type": "stream",
     "text": [
      "\n",
      "\n",
      " File = CameroonBrazil36.csv\n",
      "1 0.676923076923077\n",
      "[[28  5]\n",
      " [37 60]]\n"
     ]
    },
    {
     "name": "stderr",
     "output_type": "stream",
     "text": [
      "/tmp/ipykernel_630570/3482080844.py:8: FutureWarning: The provided callable <function mean at 0x7f78f8305da0> is currently using SeriesGroupBy.mean. In a future version of pandas, the provided callable will be used directly. To keep current behavior pass the string \"mean\" instead.\n",
      "  df = df.groupby(['MatchID', \"PeriodID\"], as_index=False).agg({\n"
     ]
    },
    {
     "name": "stdout",
     "output_type": "stream",
     "text": [
      "\n",
      "\n",
      " File = FranceGermany70.csv\n",
      "1 0.6230769230769231\n",
      "[[36 20]\n",
      " [29 45]]\n"
     ]
    },
    {
     "name": "stderr",
     "output_type": "stream",
     "text": [
      "/tmp/ipykernel_630570/3482080844.py:8: FutureWarning: The provided callable <function mean at 0x7f78f8305da0> is currently using SeriesGroupBy.mean. In a future version of pandas, the provided callable will be used directly. To keep current behavior pass the string \"mean\" instead.\n",
      "  df = df.groupby(['MatchID', \"PeriodID\"], as_index=False).agg({\n"
     ]
    },
    {
     "name": "stdout",
     "output_type": "stream",
     "text": [
      "\n",
      "\n",
      " File = FranceNigeria66.csv\n",
      "1 0.6461538461538462\n",
      "[[40 21]\n",
      " [25 44]]\n"
     ]
    },
    {
     "name": "stderr",
     "output_type": "stream",
     "text": [
      "/tmp/ipykernel_630570/3482080844.py:8: FutureWarning: The provided callable <function mean at 0x7f78f8305da0> is currently using SeriesGroupBy.mean. In a future version of pandas, the provided callable will be used directly. To keep current behavior pass the string \"mean\" instead.\n",
      "  df = df.groupby(['MatchID', \"PeriodID\"], as_index=False).agg({\n"
     ]
    },
    {
     "name": "stdout",
     "output_type": "stream",
     "text": [
      "\n",
      "\n",
      " File = GermanyAlgeria67.csv\n",
      "1 0.7411764705882353\n",
      "[[68 27]\n",
      " [17 58]]\n"
     ]
    },
    {
     "name": "stderr",
     "output_type": "stream",
     "text": [
      "/tmp/ipykernel_630570/3482080844.py:8: FutureWarning: The provided callable <function mean at 0x7f78f8305da0> is currently using SeriesGroupBy.mean. In a future version of pandas, the provided callable will be used directly. To keep current behavior pass the string \"mean\" instead.\n",
      "  df = df.groupby(['MatchID', \"PeriodID\"], as_index=False).agg({\n"
     ]
    },
    {
     "name": "stdout",
     "output_type": "stream",
     "text": [
      "\n",
      "\n",
      " File = GermanyBrazil74.csv\n",
      "1 0.4461538461538462\n",
      "[[26 33]\n",
      " [39 32]]\n"
     ]
    },
    {
     "name": "stderr",
     "output_type": "stream",
     "text": [
      "/tmp/ipykernel_630570/3482080844.py:8: FutureWarning: The provided callable <function mean at 0x7f78f8305da0> is currently using SeriesGroupBy.mean. In a future version of pandas, the provided callable will be used directly. To keep current behavior pass the string \"mean\" instead.\n",
      "  df = df.groupby(['MatchID', \"PeriodID\"], as_index=False).agg({\n"
     ]
    },
    {
     "name": "stdout",
     "output_type": "stream",
     "text": [
      "\n",
      "\n",
      " File = GermanyUSA57.csv\n",
      "1 0.7\n",
      "[[50 24]\n",
      " [15 41]]\n",
      "\n",
      "\n",
      " File = HondurasSwitzerland54.csv\n",
      "1 0.6615384615384615\n",
      "[[37 16]\n",
      " [28 49]]\n"
     ]
    },
    {
     "name": "stderr",
     "output_type": "stream",
     "text": [
      "/tmp/ipykernel_630570/3482080844.py:8: FutureWarning: The provided callable <function mean at 0x7f78f8305da0> is currently using SeriesGroupBy.mean. In a future version of pandas, the provided callable will be used directly. To keep current behavior pass the string \"mean\" instead.\n",
      "  df = df.groupby(['MatchID', \"PeriodID\"], as_index=False).agg({\n",
      "/tmp/ipykernel_630570/3482080844.py:8: FutureWarning: The provided callable <function mean at 0x7f78f8305da0> is currently using SeriesGroupBy.mean. In a future version of pandas, the provided callable will be used directly. To keep current behavior pass the string \"mean\" instead.\n",
      "  df = df.groupby(['MatchID', \"PeriodID\"], as_index=False).agg({\n"
     ]
    },
    {
     "name": "stdout",
     "output_type": "stream",
     "text": [
      "\n",
      "\n",
      " File = MexicoCroatia37.csv\n",
      "1 0.6230769230769231\n",
      "[[37 21]\n",
      " [28 44]]\n",
      "\n",
      "\n",
      " File = NetherlandsChile35.csv\n",
      "1 0.6153846153846154\n",
      "[[39 24]\n",
      " [26 41]]\n"
     ]
    },
    {
     "name": "stderr",
     "output_type": "stream",
     "text": [
      "/tmp/ipykernel_630570/3482080844.py:8: FutureWarning: The provided callable <function mean at 0x7f78f8305da0> is currently using SeriesGroupBy.mean. In a future version of pandas, the provided callable will be used directly. To keep current behavior pass the string \"mean\" instead.\n",
      "  df = df.groupby(['MatchID', \"PeriodID\"], as_index=False).agg({\n",
      "/tmp/ipykernel_630570/3482080844.py:8: FutureWarning: The provided callable <function mean at 0x7f78f8305da0> is currently using SeriesGroupBy.mean. In a future version of pandas, the provided callable will be used directly. To keep current behavior pass the string \"mean\" instead.\n",
      "  df = df.groupby(['MatchID', \"PeriodID\"], as_index=False).agg({\n"
     ]
    },
    {
     "name": "stdout",
     "output_type": "stream",
     "text": [
      "\n",
      "\n",
      " File = PortugalGhana58.csv\n",
      "1 0.7461538461538462\n",
      "[[52 20]\n",
      " [13 45]]\n",
      "\n",
      "\n",
      " File = USASlovenia2010.csv\n",
      "1 0.7923076923076923\n",
      "[[47  9]\n",
      " [18 56]]\n"
     ]
    },
    {
     "name": "stderr",
     "output_type": "stream",
     "text": [
      "/tmp/ipykernel_630570/3482080844.py:8: FutureWarning: The provided callable <function mean at 0x7f78f8305da0> is currently using SeriesGroupBy.mean. In a future version of pandas, the provided callable will be used directly. To keep current behavior pass the string \"mean\" instead.\n",
      "  df = df.groupby(['MatchID', \"PeriodID\"], as_index=False).agg({\n",
      "/tmp/ipykernel_630570/3482080844.py:8: FutureWarning: The provided callable <function mean at 0x7f78f8305da0> is currently using SeriesGroupBy.mean. In a future version of pandas, the provided callable will be used directly. To keep current behavior pass the string \"mean\" instead.\n",
      "  df = df.groupby(['MatchID', \"PeriodID\"], as_index=False).agg({\n"
     ]
    }
   ],
   "source": [
    "thresholds = [1,]\n",
    "\n",
    "for file in os.listdir(BASE_PATH_TRAIN):\n",
    "    df = pd.read_csv(os.path.join(BASE_PATH_TRAIN, file))\n",
    "\n",
    "    print(f\"\\n\\n File = {file}\")\n",
    "\n",
    "    df = df.groupby(['MatchID', \"PeriodID\"], as_index=False).agg({\n",
    "        'Tweet': len,\n",
    "        \"EventType\": np.mean\n",
    "    })\n",
    "\n",
    "    \n",
    "\n",
    "    for t in thresholds:\n",
    "        z = df['Tweet']/df['Tweet'].median()\n",
    "        y_pred = (z > t).astype(int)\n",
    "\n",
    "        print(t, accuracy_score(df['EventType'], y_pred),)\n",
    "        print(confusion_matrix(df['EventType'], y_pred))\n",
    "            \n",
    "\n",
    "    "
   ]
  },
  {
   "cell_type": "code",
   "execution_count": 109,
   "metadata": {},
   "outputs": [
    {
     "data": {
      "text/plain": [
       "<matplotlib.collections.LineCollection at 0x7f77ce39ffd0>"
      ]
     },
     "execution_count": 109,
     "metadata": {},
     "output_type": "execute_result"
    },
    {
     "data": {
      "image/png": "[encoded data removed]",
      "text/plain": [
       "<Figure size 640x480 with 1 Axes>"
      ]
     },
     "metadata": {},
     "output_type": "display_data"
    }
   ],
   "source": [
    "df['Tweet'].plot()\n",
    "(df['Tweet'] [df['EventType'] == 1]).plot(linestyle = \"\", marker = '^')\n",
    "plt.hlines(df['Tweet'].median(), 0 , 120)"
   ]
  },
  {
   "cell_type": "code",
   "execution_count": 96,
   "metadata": {},
   "outputs": [
    {
     "data": {
      "text/plain": [
       "0.7538461538461538"
      ]
     },
     "execution_count": 96,
     "metadata": {},
     "output_type": "execute_result"
    }
   ],
   "source": [
    "accuracy_score(df['EventType'],df['Tweet']>500)"
   ]
  },
  {
   "cell_type": "code",
   "execution_count": 79,
   "metadata": {},
   "outputs": [],
   "source": [
    "z = (df['Tweet'] - df['Tweet'].mean())/df['Tweet'].std()"
   ]
  },
  {
   "cell_type": "code",
   "execution_count": 80,
   "metadata": {},
   "outputs": [
    {
     "data": {
      "text/plain": [
       "<Axes: >"
      ]
     },
     "execution_count": 80,
     "metadata": {},
     "output_type": "execute_result"
    },
    {
     "data": {
      "image/png": "[encoded data removed]",
      "text/plain": [
       "<Figure size 640x480 with 1 Axes>"
      ]
     },
     "metadata": {},
     "output_type": "display_data"
    }
   ],
   "source": [
    "z.plot()"
   ]
  },
  {
   "cell_type": "code",
   "execution_count": 81,
   "metadata": {},
   "outputs": [
    {
     "name": "stderr",
     "output_type": "stream",
     "text": [
      "/tmp/ipykernel_630570/2400856684.py:1: FutureWarning: The provided callable <function mean at 0x7f78f8305da0> is currently using SeriesGroupBy.mean. In a future version of pandas, the provided callable will be used directly. To keep current behavior pass the string \"mean\" instead.\n",
      "  df = df.groupby(['MatchID', \"PeriodID\"], as_index=False).agg({\n"
     ]
    }
   ],
   "source": [
    "df = df.groupby(['MatchID', \"PeriodID\"], as_index=False).agg({\n",
    "    'Tweet': len,\n",
    "    \"EventType\": np.mean\n",
    "})"
   ]
  },
  {
   "cell_type": "code",
   "execution_count": 82,
   "metadata": {},
   "outputs": [],
   "source": [
    "df['avg_5_tweets'] = df['Tweet'].rolling(5).mean()"
   ]
  },
  {
   "cell_type": "code",
   "execution_count": 83,
   "metadata": {},
   "outputs": [
    {
     "name": "stderr",
     "output_type": "stream",
     "text": [
      "/users/eleves-a/2022/pedro.silva/Desktop/pay_attention_to_what_matters/.conda/lib/python3.11/site-packages/pandas/core/nanops.py:1632: ConstantInputWarning: An input array is constant; the correlation coefficient is not defined.\n",
      "  return spearmanr(a, b)[0]\n"
     ]
    },
    {
     "data": {
      "text/plain": [
       "nan"
      ]
     },
     "execution_count": 83,
     "metadata": {},
     "output_type": "execute_result"
    }
   ],
   "source": [
    "(df['avg_5_tweets']).corr(df['EventType'], method='spearman')"
   ]
  },
  {
   "cell_type": "code",
   "execution_count": null,
   "metadata": {},
   "outputs": [],
   "source": []
  },
  {
   "cell_type": "code",
   "execution_count": null,
   "metadata": {},
   "outputs": [],
   "source": []
  },
  {
   "cell_type": "code",
   "execution_count": 84,
   "metadata": {},
   "outputs": [
    {
     "name": "stdout",
     "output_type": "stream",
     "text": [
      "1.5 0.4307692307692308\n",
      "[[56  0]\n",
      " [74  0]]\n",
      "2 0.4307692307692308\n",
      "[[56  0]\n",
      " [74  0]]\n"
     ]
    }
   ],
   "source": [
    "# y_pred = \n",
    "for t in thresholds:\n",
    "    y_pred = (df['Tweet'] > t).astype(int)\n",
    "\n",
    "    print(t, accuracy_score(df['EventType'], y_pred),)\n",
    "    print(confusion_matrix(df['EventType'], y_pred))\n",
    "        \n",
    "\n",
    "        # confusion_matrix(df['EventType'], y_pred)"
   ]
  },
  {
   "cell_type": "code",
   "execution_count": null,
   "metadata": {},
   "outputs": [],
   "source": []
  }
 ],
 "metadata": {
  "kernelspec": {
   "display_name": "Python 3",
   "language": "python",
   "name": "python3"
  },
  "language_info": {
   "codemirror_mode": {
    "name": "ipython",
    "version": 3
   },
   "file_extension": ".py",
   "mimetype": "text/x-python",
   "name": "python",
   "nbconvert_exporter": "python",
   "pygments_lexer": "ipython3",
   "version": "3.11.9"
  }
 },
 "nbformat": 4,
 "nbformat_minor": 2
}
