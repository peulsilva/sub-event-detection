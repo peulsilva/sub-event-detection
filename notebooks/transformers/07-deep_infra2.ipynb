{
 "cells": [
  {
   "cell_type": "code",
   "execution_count": 1,
   "metadata": {},
   "outputs": [],
   "source": [
    "%load_ext autoreload\n",
    "%autoreload 2"
   ]
  },
  {
   "cell_type": "markdown",
   "metadata": {},
   "source": [
    "## Generating summaries"
   ]
  },
  {
   "cell_type": "code",
   "execution_count": null,
   "metadata": {},
   "outputs": [],
   "source": [
    "import os\n",
    "while 'notebooks' in os.getcwd():\n",
    "    os.chdir(\"..\")\n",
    "\n",
    "import numpy as np\n",
    "import pandas as pd \n",
    "from src.utils import train_test_split, get_sample_weights, get_eval_set\n",
    "from src.preprocessing import preprocess_data\n",
    "from tqdm import tqdm\n",
    "import seaborn as sns\n",
    "import matplotlib.pyplot as plt\n",
    "from transformers import AutoModelForSequenceClassification, AutoTokenizer, AutoModel, AutoModelForCausalLM\n",
    "from src.preprocessing import TextDataset\n",
    "import torch\n",
    "from torch.utils.data import DataLoader, Dataset\n",
    "from IPython.display import clear_output\n",
    "from sklearn.metrics import accuracy_score, f1_score, confusion_matrix, precision_score, roc_auc_score\n",
    "from sentence_transformers import SentenceTransformer, InputExample, losses, evaluation, LoggingHandler\n",
    "import logging\n",
    "from copy import deepcopy\n",
    "from sklearn.decomposition import PCA\n",
    "from huggingface_hub import notebook_login\n",
    "from sklearn.ensemble import RandomForestClassifier\n",
    "from collections import defaultdict\n",
    "import transformers\n",
    "import re\n",
    "from src.utils import aggregate_samples, evaluate_model, compute_class_weights, remove_hashtag_links, get_first_texts\n",
    "from torch.optim.lr_scheduler import ReduceLROnPlateau\n",
    "import ast\n",
    "\n",
    "import asyncio\n",
    "from openai import OpenAI\n",
    "\n",
    "tqdm.pandas()\n",
    "\n",
    "import nest_asyncio\n",
    "nest_asyncio.apply()"
   ]
  },
  {
   "cell_type": "code",
   "execution_count": 3,
   "metadata": {},
   "outputs": [
    {
     "name": "stderr",
     "output_type": "stream",
     "text": [
      "100%|██████████| 16/16 [00:13<00:00,  1.23it/s]\n"
     ]
    }
   ],
   "source": [
    "train_data, test_data = train_test_split()\n"
   ]
  },
  {
   "cell_type": "code",
   "execution_count": null,
   "metadata": {},
   "outputs": [
    {
     "data": {
      "application/vnd.jupyter.widget-view+json": {
       "model_id": "77c4ce6a6626497990283e94f165e42e",
       "version_major": 2,
       "version_minor": 0
      },
      "text/plain": [
       "Downloading:   0%|          | 0.00/694 [00:00<?, ?B/s]"
      ]
     },
     "metadata": {},
     "output_type": "display_data"
    },
    {
     "data": {
      "application/vnd.jupyter.widget-view+json": {
       "model_id": "8b17670a84b343ce8e65fd1cc25fd3d8",
       "version_major": 2,
       "version_minor": 0
      },
      "text/plain": [
       "Downloading:   0%|          | 0.00/899k [00:00<?, ?B/s]"
      ]
     },
     "metadata": {},
     "output_type": "display_data"
    },
    {
     "data": {
      "application/vnd.jupyter.widget-view+json": {
       "model_id": "64308c5cf4ad44f3bfa9ba9edaf47948",
       "version_major": 2,
       "version_minor": 0
      },
      "text/plain": [
       "Downloading:   0%|          | 0.00/456k [00:00<?, ?B/s]"
      ]
     },
     "metadata": {},
     "output_type": "display_data"
    },
    {
     "data": {
      "application/vnd.jupyter.widget-view+json": {
       "model_id": "573cb8b8df974c7b84c4d21f5a3077d0",
       "version_major": 2,
       "version_minor": 0
      },
      "text/plain": [
       "Downloading:   0%|          | 0.00/1.36M [00:00<?, ?B/s]"
      ]
     },
     "metadata": {},
     "output_type": "display_data"
    },
    {
     "name": "stderr",
     "output_type": "stream",
     "text": [
      "100%|██████████| 1472980/1472980 [03:37<00:00, 6768.16it/s]\n",
      "100%|██████████| 1472980/1472980 [00:03<00:00, 477241.97it/s]\n"
     ]
    }
   ],
   "source": [
    "df = pd.concat(train_data)\n",
    "\n",
    "tokenizer = AutoTokenizer.from_pretrained(\"allenai/longformer-base-4096\", )\n",
    "df['tokens'] = df['Tweet'].progress_apply(tokenizer.tokenize)\n",
    "\n",
    "target_words = [\n",
    "    \"goal\", \"penalty\", \"halftime\", \"full-time\", \"yellow\", \"red\",\n",
    "    \"kickoff\", \"extra time\", \"stoppage time\", \"foul\", \"offside\", \"handball\",\n",
    "    \"save\", \"tackle\", \"dribble\", \"corner\", \"substitution\", \"header\",\n",
    "    \"free kick\", \"throw-in\", \"assist\", \"hat-trick\", \"own goal\", \"victory\",\n",
    "    \"defeat\", \"draw\", \"win\", \"loss\", \"tie\", \"comeback\", \"goalkeeper\",\n",
    "    \"striker\", \"midfielder\", \"defender\", \"referee\", \"fans\", \"var\", \"gooal\"\n",
    "]\n",
    "target_words = set(tokenizer.tokenize(\" \".join(target_words)))\n",
    "\n",
    "def is_valid_text(t):\n",
    "    for w in t:\n",
    "        if w in target_words:\n",
    "            return True\n",
    "        \n",
    "    return False\n",
    "\n",
    "df['is_valid']= df['tokens'].progress_apply(is_valid_text)\n",
    "# df['lan'] = df['Tweet'].progress_apply(lambda x : langid.classify(x)[0])"
   ]
  },
  {
   "cell_type": "code",
   "execution_count": 6,
   "metadata": {},
   "outputs": [],
   "source": [
    "valid_df = df.query(\"is_valid == 1\")"
   ]
  },
  {
   "cell_type": "markdown",
   "metadata": {},
   "source": [
    "## Checking timestamp"
   ]
  },
  {
   "cell_type": "code",
   "execution_count": 7,
   "metadata": {},
   "outputs": [],
   "source": [
    "first_ts = valid_df.groupby([\"MatchID\", \"PeriodID\"]).Timestamp.min()\n",
    "last_ts = valid_df.groupby([\"MatchID\", \"PeriodID\"]).Timestamp.max()"
   ]
  },
  {
   "cell_type": "code",
   "execution_count": 8,
   "metadata": {},
   "outputs": [],
   "source": [
    "possible_indices = set(train_data.keys())\n",
    "\n",
    "test_indices = list(np.random.choice(list(possible_indices), size=3, replace = False,))\n",
    "test_indices = [13,1,18]\n",
    "all_train_indices = list(possible_indices.difference(set(test_indices)))\n",
    "val_indices = [1,5,12,19]\n",
    "# val_indices = list(np.random.choice(all_train_indices, 3, replace=False))\n",
    "# train_indices = list(set(all_train_indices).difference(set(val_indices)))\n",
    "# train_indices = [0,2,7,11,13,18]\n",
    "\n",
    "\n",
    "\n",
    "train_df = aggregate_samples(valid_df, list(possible_indices), max_size = 10)\n",
    "test_df = aggregate_samples(valid_df, test_indices, max_size=10)\n",
    "val_df = aggregate_samples(valid_df, val_indices, max_size=10)\n",
    "\n",
    "train_df = remove_hashtag_links(train_df)\n",
    "test_df = remove_hashtag_links(test_df)\n",
    "val_df = remove_hashtag_links(val_df)"
   ]
  },
  {
   "cell_type": "code",
   "execution_count": 9,
   "metadata": {},
   "outputs": [
    {
     "data": {
      "text/html": [
       "<div>\n",
       "<style scoped>\n",
       "    .dataframe tbody tr th:only-of-type {\n",
       "        vertical-align: middle;\n",
       "    }\n",
       "\n",
       "    .dataframe tbody tr th {\n",
       "        vertical-align: top;\n",
       "    }\n",
       "\n",
       "    .dataframe thead th {\n",
       "        text-align: right;\n",
       "    }\n",
       "</style>\n",
       "<table border=\"1\" class=\"dataframe\">\n",
       "  <thead>\n",
       "    <tr style=\"text-align: right;\">\n",
       "      <th></th>\n",
       "      <th></th>\n",
       "      <th>Tweet</th>\n",
       "      <th>EventType</th>\n",
       "      <th>ID</th>\n",
       "    </tr>\n",
       "    <tr>\n",
       "      <th>MatchID</th>\n",
       "      <th>PeriodID</th>\n",
       "      <th></th>\n",
       "      <th></th>\n",
       "      <th></th>\n",
       "    </tr>\n",
       "  </thead>\n",
       "  <tbody>\n",
       "    <tr>\n",
       "      <th rowspan=\"5\" valign=\"top\">0</th>\n",
       "      <th>0</th>\n",
       "      <td>Robbie Fowler predicting a Honduras win? \\n le...</td>\n",
       "      <td>0.0</td>\n",
       "      <td>9</td>\n",
       "    </tr>\n",
       "    <tr>\n",
       "      <th>1</th>\n",
       "      <td>can  please win...\\nLego Honduras and France !...</td>\n",
       "      <td>0.0</td>\n",
       "      <td>17</td>\n",
       "    </tr>\n",
       "    <tr>\n",
       "      <th>2</th>\n",
       "      <td>Hoy golea Costly. \\nMy Predictions: \\n 1-3 \\n ...</td>\n",
       "      <td>0.0</td>\n",
       "      <td>17</td>\n",
       "    </tr>\n",
       "    <tr>\n",
       "      <th>3</th>\n",
       "      <td>Honduras better kick some ass\\nCome on Hondura...</td>\n",
       "      <td>0.0</td>\n",
       "      <td>19</td>\n",
       "    </tr>\n",
       "    <tr>\n",
       "      <th>4</th>\n",
       "      <td>Honduras is taking the win lets go!!\\nHonduras...</td>\n",
       "      <td>0.0</td>\n",
       "      <td>18</td>\n",
       "    </tr>\n",
       "    <tr>\n",
       "      <th>...</th>\n",
       "      <th>...</th>\n",
       "      <td>...</td>\n",
       "      <td>...</td>\n",
       "      <td>...</td>\n",
       "    </tr>\n",
       "    <tr>\n",
       "      <th rowspan=\"5\" valign=\"top\">19</th>\n",
       "      <th>125</th>\n",
       "      <td>What a win!\\n \\nWe got this  win!!!\\n 3-1   \\n...</td>\n",
       "      <td>1.0</td>\n",
       "      <td>113</td>\n",
       "    </tr>\n",
       "    <tr>\n",
       "      <th>126</th>\n",
       "      <td>He'll yea 3-1 \\n doing work \\nGreat win  \\n\\n ...</td>\n",
       "      <td>1.0</td>\n",
       "      <td>106</td>\n",
       "    </tr>\n",
       "    <tr>\n",
       "      <th>127</th>\n",
       "      <td>FULL TIME!!!\\n 1-3 \\n\\nCielito Lindo!  \\nGood ...</td>\n",
       "      <td>1.0</td>\n",
       "      <td>88</td>\n",
       "    </tr>\n",
       "    <tr>\n",
       "      <th>128</th>\n",
       "      <td>Great win for \\n for the win\\n vs  lets go!\\nW...</td>\n",
       "      <td>1.0</td>\n",
       "      <td>76</td>\n",
       "    </tr>\n",
       "    <tr>\n",
       "      <th>129</th>\n",
       "      <td>gonna win 1-0 against \\nMexico will beat Nethe...</td>\n",
       "      <td>1.0</td>\n",
       "      <td>59</td>\n",
       "    </tr>\n",
       "  </tbody>\n",
       "</table>\n",
       "<p>2137 rows × 3 columns</p>\n",
       "</div>"
      ],
      "text/plain": [
       "                                                              Tweet  \\\n",
       "MatchID PeriodID                                                      \n",
       "0       0         Robbie Fowler predicting a Honduras win? \\n le...   \n",
       "        1         can  please win...\\nLego Honduras and France !...   \n",
       "        2         Hoy golea Costly. \\nMy Predictions: \\n 1-3 \\n ...   \n",
       "        3         Honduras better kick some ass\\nCome on Hondura...   \n",
       "        4         Honduras is taking the win lets go!!\\nHonduras...   \n",
       "...                                                             ...   \n",
       "19      125       What a win!\\n \\nWe got this  win!!!\\n 3-1   \\n...   \n",
       "        126       He'll yea 3-1 \\n doing work \\nGreat win  \\n\\n ...   \n",
       "        127       FULL TIME!!!\\n 1-3 \\n\\nCielito Lindo!  \\nGood ...   \n",
       "        128       Great win for \\n for the win\\n vs  lets go!\\nW...   \n",
       "        129       gonna win 1-0 against \\nMexico will beat Nethe...   \n",
       "\n",
       "                  EventType   ID  \n",
       "MatchID PeriodID                  \n",
       "0       0               0.0    9  \n",
       "        1               0.0   17  \n",
       "        2               0.0   17  \n",
       "        3               0.0   19  \n",
       "        4               0.0   18  \n",
       "...                     ...  ...  \n",
       "19      125             1.0  113  \n",
       "        126             1.0  106  \n",
       "        127             1.0   88  \n",
       "        128             1.0   76  \n",
       "        129             1.0   59  \n",
       "\n",
       "[2137 rows x 3 columns]"
      ]
     },
     "execution_count": 9,
     "metadata": {},
     "output_type": "execute_result"
    }
   ],
   "source": [
    "train_df"
   ]
  },
  {
   "cell_type": "code",
   "execution_count": 150,
   "metadata": {},
   "outputs": [],
   "source": [
    "base_prompt = ''' \n",
    "\n",
    "\n",
    "You are a helpful AI tasked with analyzing a collection of tweets posted during a single minute of a football match. Your goal is to generate a concise summary of the key events that occurred during this time and to specifically answer whether any of the following events occurred: \n",
    "\n",
    "1. A goal (including who scored, if mentioned).\n",
    "2. A yellow or red card (including the player or team, if mentioned).\n",
    "3. A kickoff (start of a half or after a goal).\n",
    "4. Halftime or fulltime whistle.\n",
    "\n",
    "Here are the tweets:\n",
    "\n",
    "{tweets}\n",
    "\n",
    "### Instructions:\n",
    "1. Analyze the tweets for clear indications of the above events using common football-related terminology, phrases, or hashtags.\n",
    "2. If the event is ambiguous or not explicitly stated in the tweets, mark it as \"Not mentioned.\"\n",
    "3. Summarize any additional significant match events or fan reactions from the tweets that are relevant to understanding the minute.\n",
    "4. Return the response in the following structured format:\n",
    "\n",
    "```\n",
    "{{\n",
    "    \"summary\": [What happened in that minute.],\n",
    "    \"goal\": [yes/no/not mentioned if there was a goal on that exact minute. \n",
    "             If there was only a chance/attempt, return \"no\". \n",
    "             Add the tweet that refers to the goal.],\n",
    "    \"cards\": [yes/no/not mentioned if there were any cards on that exact minute. \n",
    "              Add the tweet that refers to the card.],\n",
    "    \"kickoff\": [yes/no/not mentioned if the match just started in that exact minute. \n",
    "                Add the tweet that refers to the kickoff.],\n",
    "    \"halftime\": [yes/no/not mentioned if the first half ended in that exact minute. \n",
    "                 Add the tweet that refers to the halftime.],\n",
    "    \"fulltime\": [yes/no/not mentioned if the game ended in that exact minute. \n",
    "                 Add the tweet that refers to the fulltime.]\n",
    "}}\n",
    "```\n",
    "Try to reason as much as possible and avoid simple and quick answers\n",
    "\n",
    "'''"
   ]
  },
  {
   "cell_type": "code",
   "execution_count": 151,
   "metadata": {},
   "outputs": [],
   "source": [
    "model_name = \"meta-llama/Meta-Llama-3.1-8B-Instruct\""
   ]
  },
  {
   "cell_type": "code",
   "execution_count": null,
   "metadata": {},
   "outputs": [],
   "source": []
  },
  {
   "cell_type": "code",
   "execution_count": 92,
   "metadata": {},
   "outputs": [],
   "source": [
    "client = OpenAI(\n",
    "    api_key=\"E816LUcagzqnrKK49x99jFqzVlrEDKqr\",\n",
    "    base_url=\"https://api.deepinfra.com/v1/openai\",\n",
    ")\n"
   ]
  },
  {
   "cell_type": "code",
   "execution_count": 93,
   "metadata": {},
   "outputs": [
    {
     "ename": "KeyboardInterrupt",
     "evalue": "",
     "output_type": "error",
     "traceback": [
      "\u001b[0;31m---------------------------------------------------------------------------\u001b[0m",
      "\u001b[0;31mKeyboardInterrupt\u001b[0m                         Traceback (most recent call last)",
      "Cell \u001b[0;32mIn[93], line 86\u001b[0m\n\u001b[1;32m     83\u001b[0m     \u001b[38;5;28;01mreturn\u001b[39;00m generated_texts\n\u001b[1;32m     85\u001b[0m \u001b[38;5;66;03m# Run the async main function\u001b[39;00m\n\u001b[0;32m---> 86\u001b[0m generated_texts \u001b[38;5;241m=\u001b[39m \u001b[43masyncio\u001b[49m\u001b[38;5;241;43m.\u001b[39;49m\u001b[43mrun\u001b[49m\u001b[43m(\u001b[49m\u001b[43mmain\u001b[49m\u001b[43m(\u001b[49m\u001b[43m)\u001b[49m\u001b[43m)\u001b[49m\n",
      "File \u001b[0;32m~/anaconda3/lib/python3.10/site-packages/nest_asyncio.py:35\u001b[0m, in \u001b[0;36m_patch_asyncio.<locals>.run\u001b[0;34m(main, debug)\u001b[0m\n\u001b[1;32m     33\u001b[0m task \u001b[38;5;241m=\u001b[39m asyncio\u001b[38;5;241m.\u001b[39mensure_future(main)\n\u001b[1;32m     34\u001b[0m \u001b[38;5;28;01mtry\u001b[39;00m:\n\u001b[0;32m---> 35\u001b[0m     \u001b[38;5;28;01mreturn\u001b[39;00m \u001b[43mloop\u001b[49m\u001b[38;5;241;43m.\u001b[39;49m\u001b[43mrun_until_complete\u001b[49m\u001b[43m(\u001b[49m\u001b[43mtask\u001b[49m\u001b[43m)\u001b[49m\n\u001b[1;32m     36\u001b[0m \u001b[38;5;28;01mfinally\u001b[39;00m:\n\u001b[1;32m     37\u001b[0m     \u001b[38;5;28;01mif\u001b[39;00m \u001b[38;5;129;01mnot\u001b[39;00m task\u001b[38;5;241m.\u001b[39mdone():\n",
      "File \u001b[0;32m~/anaconda3/lib/python3.10/site-packages/nest_asyncio.py:84\u001b[0m, in \u001b[0;36m_patch_loop.<locals>.run_until_complete\u001b[0;34m(self, future)\u001b[0m\n\u001b[1;32m     82\u001b[0m     f\u001b[38;5;241m.\u001b[39m_log_destroy_pending \u001b[38;5;241m=\u001b[39m \u001b[38;5;28;01mFalse\u001b[39;00m\n\u001b[1;32m     83\u001b[0m \u001b[38;5;28;01mwhile\u001b[39;00m \u001b[38;5;129;01mnot\u001b[39;00m f\u001b[38;5;241m.\u001b[39mdone():\n\u001b[0;32m---> 84\u001b[0m     \u001b[38;5;28;43mself\u001b[39;49m\u001b[38;5;241;43m.\u001b[39;49m\u001b[43m_run_once\u001b[49m\u001b[43m(\u001b[49m\u001b[43m)\u001b[49m\n\u001b[1;32m     85\u001b[0m     \u001b[38;5;28;01mif\u001b[39;00m \u001b[38;5;28mself\u001b[39m\u001b[38;5;241m.\u001b[39m_stopping:\n\u001b[1;32m     86\u001b[0m         \u001b[38;5;28;01mbreak\u001b[39;00m\n",
      "File \u001b[0;32m~/anaconda3/lib/python3.10/site-packages/nest_asyncio.py:107\u001b[0m, in \u001b[0;36m_patch_loop.<locals>._run_once\u001b[0;34m(self)\u001b[0m\n\u001b[1;32m    100\u001b[0m     heappop(scheduled)\n\u001b[1;32m    102\u001b[0m timeout \u001b[38;5;241m=\u001b[39m (\n\u001b[1;32m    103\u001b[0m     \u001b[38;5;241m0\u001b[39m \u001b[38;5;28;01mif\u001b[39;00m ready \u001b[38;5;129;01mor\u001b[39;00m \u001b[38;5;28mself\u001b[39m\u001b[38;5;241m.\u001b[39m_stopping\n\u001b[1;32m    104\u001b[0m     \u001b[38;5;28;01melse\u001b[39;00m \u001b[38;5;28mmin\u001b[39m(\u001b[38;5;28mmax\u001b[39m(\n\u001b[1;32m    105\u001b[0m         scheduled[\u001b[38;5;241m0\u001b[39m]\u001b[38;5;241m.\u001b[39m_when \u001b[38;5;241m-\u001b[39m \u001b[38;5;28mself\u001b[39m\u001b[38;5;241m.\u001b[39mtime(), \u001b[38;5;241m0\u001b[39m), \u001b[38;5;241m86400\u001b[39m) \u001b[38;5;28;01mif\u001b[39;00m scheduled\n\u001b[1;32m    106\u001b[0m     \u001b[38;5;28;01melse\u001b[39;00m \u001b[38;5;28;01mNone\u001b[39;00m)\n\u001b[0;32m--> 107\u001b[0m event_list \u001b[38;5;241m=\u001b[39m \u001b[38;5;28;43mself\u001b[39;49m\u001b[38;5;241;43m.\u001b[39;49m\u001b[43m_selector\u001b[49m\u001b[38;5;241;43m.\u001b[39;49m\u001b[43mselect\u001b[49m\u001b[43m(\u001b[49m\u001b[43mtimeout\u001b[49m\u001b[43m)\u001b[49m\n\u001b[1;32m    108\u001b[0m \u001b[38;5;28mself\u001b[39m\u001b[38;5;241m.\u001b[39m_process_events(event_list)\n\u001b[1;32m    110\u001b[0m end_time \u001b[38;5;241m=\u001b[39m \u001b[38;5;28mself\u001b[39m\u001b[38;5;241m.\u001b[39mtime() \u001b[38;5;241m+\u001b[39m \u001b[38;5;28mself\u001b[39m\u001b[38;5;241m.\u001b[39m_clock_resolution\n",
      "File \u001b[0;32m~/anaconda3/lib/python3.10/selectors.py:469\u001b[0m, in \u001b[0;36mEpollSelector.select\u001b[0;34m(self, timeout)\u001b[0m\n\u001b[1;32m    467\u001b[0m ready \u001b[38;5;241m=\u001b[39m []\n\u001b[1;32m    468\u001b[0m \u001b[38;5;28;01mtry\u001b[39;00m:\n\u001b[0;32m--> 469\u001b[0m     fd_event_list \u001b[38;5;241m=\u001b[39m \u001b[38;5;28;43mself\u001b[39;49m\u001b[38;5;241;43m.\u001b[39;49m\u001b[43m_selector\u001b[49m\u001b[38;5;241;43m.\u001b[39;49m\u001b[43mpoll\u001b[49m\u001b[43m(\u001b[49m\u001b[43mtimeout\u001b[49m\u001b[43m,\u001b[49m\u001b[43m \u001b[49m\u001b[43mmax_ev\u001b[49m\u001b[43m)\u001b[49m\n\u001b[1;32m    470\u001b[0m \u001b[38;5;28;01mexcept\u001b[39;00m \u001b[38;5;167;01mInterruptedError\u001b[39;00m:\n\u001b[1;32m    471\u001b[0m     \u001b[38;5;28;01mreturn\u001b[39;00m ready\n",
      "\u001b[0;31mKeyboardInterrupt\u001b[0m: "
     ]
    }
   ],
   "source": [
    "client = OpenAI(\n",
    "    api_key=\"E816LUcagzqnrKK49x99jFqzVlrEDKqr\",\n",
    "    base_url=\"https://api.deepinfra.com/v1/openai\",\n",
    ")\n",
    "\n",
    "async def create_completion(prompt, model_name, stream):\n",
    "    try:\n",
    "        chat_completion = await asyncio.to_thread(\n",
    "            client.chat.completions.create,\n",
    "            model=model_name,\n",
    "            # prompt = prompt,\n",
    "            messages=[{\"role\": \"user\", \"content\": prompt}],\n",
    "            stream=stream,\n",
    "        )\n",
    "\n",
    "        if stream:\n",
    "            for event in chat_completion:\n",
    "                if event.choices[0].finish_reason:\n",
    "                    print(\n",
    "                        event.choices[0].finish_reason,\n",
    "                        event.usage['prompt_tokens'],\n",
    "                        event.usage['completion_tokens']\n",
    "                    )\n",
    "                else:\n",
    "                    print(event.choices[0].delta.content)\n",
    "            return None  # Return None for stream as the output is handled by the print statements\n",
    "        else:\n",
    "            generated_text = chat_completion.choices[0].message.content\n",
    "            prompt_tokens = chat_completion.usage.prompt_tokens\n",
    "            output_tokens = chat_completion.usage.completion_tokens\n",
    "            return {\n",
    "                \"generated_text\": generated_text,\n",
    "                \"prompt_tokens\": prompt_tokens,\n",
    "                \"output_tokens\": output_tokens\n",
    "            }\n",
    "    except Exception as e:\n",
    "        print(f\"Error during OpenAI API request: {e}\")\n",
    "        return None\n",
    "\n",
    "async def process_completions(study_df, model_name, stream, batch_size=1_000):\n",
    "    generated_texts = []\n",
    "    \n",
    "    tasks = []\n",
    "    for i, (text_idx, row) in enumerate(study_df.iterrows()):\n",
    "        prompt = base_prompt.format(tweets=row['Tweet'])\n",
    "        tasks.append((i, text_idx, row, create_completion(prompt, model_name, stream)))\n",
    "\n",
    "    for batch_start in range(0, len(tasks), batch_size):\n",
    "        batch = tasks[batch_start:batch_start + batch_size]\n",
    "        results = await asyncio.gather(*[task[3] for task in batch])\n",
    "        \n",
    "        for (i, text_idx, row, _), result in zip(batch, results):\n",
    "            if result is not None:\n",
    "                generated_text = result['generated_text']\n",
    "                prompt_tokens = result['prompt_tokens']\n",
    "                output_tokens = result['output_tokens']\n",
    "                \n",
    "                clear_output(wait=True)\n",
    "                print(\n",
    "                    f\"\"\"\n",
    "                    Generation of text index = {i}\n",
    "                    Generated text = {generated_text}\n",
    "                    Number of prompt tokens = {prompt_tokens}\n",
    "                    Number of output tokens = {output_tokens}\n",
    "                    \"\"\"\n",
    "                )\n",
    "\n",
    "                generated_texts.append({\n",
    "                    \"generated_text\": generated_text,\n",
    "                    \"text\": row['Tweet'],\n",
    "                    \"text_idx\": text_idx,\n",
    "                    \"label\": row[\"EventType\"]\n",
    "                })\n",
    "\n",
    "    return generated_texts\n",
    "\n",
    "async def main():\n",
    "    # Define your study_df, model_name, stream, and other necessary variables\n",
    "    stream = False  # Change to True if you want streaming\n",
    "\n",
    "    # Run the process_completions coroutine\n",
    "    generated_texts = await process_completions(train_df, model_name, stream, batch_size=1)\n",
    "    return generated_texts\n",
    "\n",
    "# Run the async main function\n",
    "generated_texts = asyncio.run(main())"
   ]
  },
  {
   "cell_type": "code",
   "execution_count": 49,
   "metadata": {},
   "outputs": [],
   "source": [
    "generated_texts = pd.read_csv(\"generated_summary_llm_2.csv\", index_col = 0)"
   ]
  },
  {
   "cell_type": "code",
   "execution_count": 65,
   "metadata": {},
   "outputs": [],
   "source": [
    "generated_texts['preds'] = generated_texts['generated_text'].str.lower().str.contains(\"yes\").astype(int)"
   ]
  },
  {
   "cell_type": "code",
   "execution_count": null,
   "metadata": {},
   "outputs": [],
   "source": []
  },
  {
   "cell_type": "code",
   "execution_count": 59,
   "metadata": {},
   "outputs": [],
   "source": [
    "generated_texts['text_idx'] = generated_texts['text_idx'].apply(ast.literal_eval)"
   ]
  },
  {
   "cell_type": "code",
   "execution_count": 60,
   "metadata": {},
   "outputs": [],
   "source": [
    "generated_texts['match_id'] = generated_texts['text_idx'].apply(lambda x: x[0])\n",
    "generated_texts['period_id'] = generated_texts['text_idx'].apply(lambda x: x[1])\n",
    "\n"
   ]
  },
  {
   "cell_type": "code",
   "execution_count": 73,
   "metadata": {},
   "outputs": [
    {
     "name": "stderr",
     "output_type": "stream",
     "text": [
      "/tmp/ipykernel_1791824/1139202758.py:1: DeprecationWarning: DataFrameGroupBy.apply operated on the grouping columns. This behavior is deprecated, and in a future version of pandas the grouping columns will be excluded from the operation. Either pass `include_groups=False` to exclude the groupings or explicitly select the grouping columns after groupby to silence this warning.\n",
      "  generated_texts.groupby(\"match_id\").apply(lambda x: accuracy_score(x['label'], x['preds']))\n"
     ]
    },
    {
     "data": {
      "text/plain": [
       "match_id\n",
       "0     0.730769\n",
       "1     0.600000\n",
       "2     0.753846\n",
       "3     0.607692\n",
       "4     0.594118\n",
       "5     0.561538\n",
       "7     0.615385\n",
       "8     0.753846\n",
       "10    0.627778\n",
       "11    0.646154\n",
       "12    0.649485\n",
       "13    0.607692\n",
       "14    0.576923\n",
       "17    0.584615\n",
       "18    0.669231\n",
       "19    0.623077\n",
       "dtype: float64"
      ]
     },
     "execution_count": 73,
     "metadata": {},
     "output_type": "execute_result"
    }
   ],
   "source": [
    "generated_texts.groupby(\"match_id\").apply(lambda x: accuracy_score(x['label'], x['preds']))"
   ]
  },
  {
   "cell_type": "code",
   "execution_count": 96,
   "metadata": {},
   "outputs": [
    {
     "name": "stdout",
     "output_type": "stream",
     "text": [
      "Here's the analysis of the tweets:\n",
      "\n",
      "**Summary**: Brazil was getting dominated by Germany, with fans expressing their disappointment and frustration. Some tweets made light of the situation with humorous comments.\n",
      "\n",
      "**Event Analysis**\n",
      "\n",
      "\n",
      "```json\n",
      "{\n",
      "    \"summary\": [\n",
      "        \"Brazil is getting dominated by Germany, fans are disappointed and frustrated.\",\n",
      "        \"Some fans are making light of the situation with humorous comments.\"\n",
      "    ],\n",
      "    \"goal\": [\"yes\", \"Brazil got German Whipped (Tweet 7)\", \"Brazil have been blitzkrieged (Tweet 16,18)\"],\n",
      "    \"cards\": [\"no\"],\n",
      "    \"kickoff\": [\"no\"],\n",
      "    \"halftime\": [\"no\"],\n",
      "    \"fulltime\": [\"no\"]\n",
      "}\n",
      "```\n",
      "\n",
      "Based on the tweets, there is a clear indication that a goal was scored by Germany in that exact minute, as mentioned in tweet 7 and tweets 16 and 18. The tweets do not explicitly mention a yellow or red card, kickoff, halftime, or fulltime whistle in that exact minute.\n"
     ]
    }
   ],
   "source": [
    "print(generated_texts.query(\"match_id == 1\")['generated_text'].iloc[69])"
   ]
  },
  {
   "cell_type": "code",
   "execution_count": 83,
   "metadata": {},
   "outputs": [
    {
     "data": {
      "text/plain": [
       "<Axes: xlabel='period_id'>"
      ]
     },
     "execution_count": 83,
     "metadata": {},
     "output_type": "execute_result"
    },
    {
     "data": {
      "image/png": "[encoded data removed]",
      "text/plain": [
       "<Figure size 640x480 with 1 Axes>"
      ]
     },
     "metadata": {},
     "output_type": "display_data"
    }
   ],
   "source": [
    "generated_texts.set_index(\"period_id\").query(\"match_id == 1\")[['label', 'preds']].plot()"
   ]
  },
  {
   "cell_type": "markdown",
   "metadata": {},
   "source": [
    "### Generating predictions"
   ]
  },
  {
   "cell_type": "code",
   "execution_count": 146,
   "metadata": {},
   "outputs": [
    {
     "name": "stderr",
     "output_type": "stream",
     "text": [
      "100%|██████████| 4/4 [00:02<00:00,  1.51it/s]\n",
      "100%|██████████| 362397/362397 [00:49<00:00, 7318.55it/s]\n",
      "100%|██████████| 362397/362397 [00:00<00:00, 452505.40it/s]\n"
     ]
    }
   ],
   "source": [
    "eval_df = get_eval_set()\n",
    "\n",
    "tokenizer = AutoTokenizer.from_pretrained(\"allenai/longformer-base-4096\")\n",
    "eval_df['tokens'] = eval_df['Tweet'].progress_apply(tokenizer.tokenize)\n",
    "\n",
    "target_words = [\n",
    "    \"goal\", \"penalty\", \"halftime\", \"full-time\", \"yellow\", \"red\",\n",
    "    \"kickoff\", \"extra time\", \"stoppage time\", \"foul\", \"offside\", \"handball\",\n",
    "    \"save\", \"tackle\", \"dribble\", \"corner\", \"substitution\", \"header\",\n",
    "    \"free kick\", \"throw-in\", \"assist\", \"hat-trick\", \"own goal\", \"victory\",\n",
    "    \"defeat\", \"draw\", \"win\", \"loss\", \"tie\", \"comeback\", \"goalkeeper\",\n",
    "    \"striker\", \"midfielder\", \"defender\", \"referee\", \"fans\", \"var\", \"gooal\"\n",
    "]\n",
    "target_words = set(tokenizer.tokenize(\" \".join(target_words)))\n",
    "\n",
    "def is_valid_text(t):\n",
    "    for w in t:\n",
    "        if w in target_words:\n",
    "            return True\n",
    "        \n",
    "    return False\n",
    "\n",
    "eval_df['is_valid']= eval_df['tokens'].progress_apply(is_valid_text)\n",
    "# df['lan'] = df['Tweet'].progress_apply(lambda x : langid.cl"
   ]
  },
  {
   "cell_type": "code",
   "execution_count": 147,
   "metadata": {},
   "outputs": [],
   "source": [
    "eval_df['EventType'] = -1"
   ]
  },
  {
   "cell_type": "code",
   "execution_count": 176,
   "metadata": {},
   "outputs": [],
   "source": [
    "preprocessed_eval_df = aggregate_samples(eval_df.query(\"is_valid == 1\"), eval_df.MatchID.unique().tolist(), max_size=10)\n",
    "\n",
    "preprocessed_eval_df = remove_hashtag_links(preprocessed_eval_df)"
   ]
  },
  {
   "cell_type": "code",
   "execution_count": 177,
   "metadata": {},
   "outputs": [
    {
     "data": {
      "text/html": [
       "<div>\n",
       "<style scoped>\n",
       "    .dataframe tbody tr th:only-of-type {\n",
       "        vertical-align: middle;\n",
       "    }\n",
       "\n",
       "    .dataframe tbody tr th {\n",
       "        vertical-align: top;\n",
       "    }\n",
       "\n",
       "    .dataframe thead th {\n",
       "        text-align: right;\n",
       "    }\n",
       "</style>\n",
       "<table border=\"1\" class=\"dataframe\">\n",
       "  <thead>\n",
       "    <tr style=\"text-align: right;\">\n",
       "      <th></th>\n",
       "      <th></th>\n",
       "      <th>Tweet</th>\n",
       "      <th>EventType</th>\n",
       "      <th>ID</th>\n",
       "    </tr>\n",
       "    <tr>\n",
       "      <th>MatchID</th>\n",
       "      <th>PeriodID</th>\n",
       "      <th></th>\n",
       "      <th></th>\n",
       "      <th></th>\n",
       "    </tr>\n",
       "  </thead>\n",
       "  <tbody>\n",
       "    <tr>\n",
       "      <th rowspan=\"5\" valign=\"top\">6</th>\n",
       "      <th>0</th>\n",
       "      <td>Let's gooooo\\nlet's go \\nLet's go \\nLet's go! ...</td>\n",
       "      <td>-1.0</td>\n",
       "      <td>82</td>\n",
       "    </tr>\n",
       "    <tr>\n",
       "      <th>1</th>\n",
       "      <td>Let's go!\\nLet's go 󾓨\\n let's gooooooooo\\nLet'...</td>\n",
       "      <td>-1.0</td>\n",
       "      <td>85</td>\n",
       "    </tr>\n",
       "    <tr>\n",
       "      <th>2</th>\n",
       "      <td>Let's goooo \\nReal game time. \\nGERMANY must w...</td>\n",
       "      <td>-1.0</td>\n",
       "      <td>79</td>\n",
       "    </tr>\n",
       "    <tr>\n",
       "      <th>3</th>\n",
       "      <td>Just in time.\\n\\nOzil-lean  \\nLet's goooooooo ...</td>\n",
       "      <td>-1.0</td>\n",
       "      <td>110</td>\n",
       "    </tr>\n",
       "    <tr>\n",
       "      <th>4</th>\n",
       "      <td>Lets go Germany!!\\n\\nLet's gooooooooo!!!! \\nLe...</td>\n",
       "      <td>-1.0</td>\n",
       "      <td>151</td>\n",
       "    </tr>\n",
       "    <tr>\n",
       "      <th>...</th>\n",
       "      <th>...</th>\n",
       "      <td>...</td>\n",
       "      <td>...</td>\n",
       "      <td>...</td>\n",
       "    </tr>\n",
       "    <tr>\n",
       "      <th rowspan=\"5\" valign=\"top\">16</th>\n",
       "      <th>125</th>\n",
       "      <td>Let's go USA!!! \\n  Vidic slo-mo, great! \\nUSA...</td>\n",
       "      <td>-1.0</td>\n",
       "      <td>137</td>\n",
       "    </tr>\n",
       "    <tr>\n",
       "      <th>126</th>\n",
       "      <td>Fick Mich\\n \\nLet's go ! \\nLets go  \\nhats off...</td>\n",
       "      <td>-1.0</td>\n",
       "      <td>115</td>\n",
       "    </tr>\n",
       "    <tr>\n",
       "      <th>127</th>\n",
       "      <td>lets goooo !!! \\nLet's go ! \\n  let's gooooo!!...</td>\n",
       "      <td>-1.0</td>\n",
       "      <td>116</td>\n",
       "    </tr>\n",
       "    <tr>\n",
       "      <th>128</th>\n",
       "      <td>Let's go Usa!!! \\nLet's go  \\n  its go time!\\n...</td>\n",
       "      <td>-1.0</td>\n",
       "      <td>109</td>\n",
       "    </tr>\n",
       "    <tr>\n",
       "      <th>129</th>\n",
       "      <td>Serbia win?wow...unexpected,hm? \\n beat  1-0 \\...</td>\n",
       "      <td>-1.0</td>\n",
       "      <td>94</td>\n",
       "    </tr>\n",
       "  </tbody>\n",
       "</table>\n",
       "<p>516 rows × 3 columns</p>\n",
       "</div>"
      ],
      "text/plain": [
       "                                                              Tweet  \\\n",
       "MatchID PeriodID                                                      \n",
       "6       0         Let's gooooo\\nlet's go \\nLet's go \\nLet's go! ...   \n",
       "        1         Let's go!\\nLet's go 󾓨\\n let's gooooooooo\\nLet'...   \n",
       "        2         Let's goooo \\nReal game time. \\nGERMANY must w...   \n",
       "        3         Just in time.\\n\\nOzil-lean  \\nLet's goooooooo ...   \n",
       "        4         Lets go Germany!!\\n\\nLet's gooooooooo!!!! \\nLe...   \n",
       "...                                                             ...   \n",
       "16      125       Let's go USA!!! \\n  Vidic slo-mo, great! \\nUSA...   \n",
       "        126       Fick Mich\\n \\nLet's go ! \\nLets go  \\nhats off...   \n",
       "        127       lets goooo !!! \\nLet's go ! \\n  let's gooooo!!...   \n",
       "        128       Let's go Usa!!! \\nLet's go  \\n  its go time!\\n...   \n",
       "        129       Serbia win?wow...unexpected,hm? \\n beat  1-0 \\...   \n",
       "\n",
       "                  EventType   ID  \n",
       "MatchID PeriodID                  \n",
       "6       0              -1.0   82  \n",
       "        1              -1.0   85  \n",
       "        2              -1.0   79  \n",
       "        3              -1.0  110  \n",
       "        4              -1.0  151  \n",
       "...                     ...  ...  \n",
       "16      125            -1.0  137  \n",
       "        126            -1.0  115  \n",
       "        127            -1.0  116  \n",
       "        128            -1.0  109  \n",
       "        129            -1.0   94  \n",
       "\n",
       "[516 rows x 3 columns]"
      ]
     },
     "execution_count": 177,
     "metadata": {},
     "output_type": "execute_result"
    }
   ],
   "source": [
    "preprocessed_eval_df"
   ]
  },
  {
   "cell_type": "code",
   "execution_count": 178,
   "metadata": {},
   "outputs": [
    {
     "name": "stdout",
     "output_type": "stream",
     "text": [
      "\n",
      "                    Generation of text index = 515\n",
      "                    Generated text = ## Analyzed Tweets for Football Match Minute\n",
      "\n",
      "### Event Summary\n",
      "The tweets indicate that the match between Serbia and Germany is ongoing. There are various reactions from fans, such as \"wow...unexpected,hm?!\" and \"Wooooo!!!\", suggesting a surprising outcome for Serbia. However, the accuracy of the score changes needs verification, as some tweets suggest a score change that might not be relevant to the exact minute in question.\n",
      "\n",
      "### Event Details\n",
      "\n",
      "#### Goal\n",
      "- Status: yes\n",
      "- Details: Serbia wins 1-0.\n",
      "- Reference Tweet: \"Serbia win?wow...unexpected,hm? beat 1-0\"\n",
      "\n",
      "#### Cards\n",
      "- Status: not mentioned\n",
      "- Details: No clear indications of any yellow or red cards were found in the tweets.\n",
      "\n",
      "#### Kickoff\n",
      "- Status: not mentioned\n",
      "- Details: Although there are mentions of \"5 hours to kick of\" and \"Five hours till kick-off!!!!\", these appear to be referencing an upcoming match rather than a kickoff occurring in that exact minute.\n",
      "\n",
      "#### Halftime\n",
      "- Status: not mentioned\n",
      "- Details: There is a mention of \"Full time!! German 0 vs Serbia 1..WC2010 semakin seru!!\", suggesting the match has ended, but it does not clarify whether it is halftime or fulltime, nor does it specify the minute it happened.\n",
      "\n",
      "#### Fulltime\n",
      "- Status: yes\n",
      "- Details: The match has ended with Serbia winning 1-0.\n",
      "- Reference Tweet: \"Full time!! German 0 vs Serbia 1..WC2010 semakin seru!!\"\n",
      "\n",
      "### Additional Insights\n",
      "\n",
      "- There are mentions of countries that are likely participating in other matches, such as \"Alright USA time to kick some Slovenia ass!\", suggesting that while the tweets might be primarily about the Serbia vs. Germany match, there is interest in other games.\n",
      "- A fan expresses disappointment with the referee's decision, \"Serbia wins 1-0 over Germany. Stupid ref.\"\n",
      "\n",
      "### Output\n",
      "```json\n",
      "{\n",
      "  \"summary\": \"The Serbia vs. Germany match is ongoing with various reactions from fans, and it seems to have ended with Serbia winning 1-0.\",\n",
      "  \"goal\": \"yes\",\n",
      "  \"cards\": \"not mentioned\",\n",
      "  \"kickoff\": \"not mentioned\",\n",
      "  \"halftime\": \"not mentioned\",\n",
      "  \"fulltime\": \"yes\"\n",
      "}\n",
      "```\n",
      "                    Number of prompt tokens = 584\n",
      "                    Number of output tokens = 487\n",
      "                    \n"
     ]
    }
   ],
   "source": [
    "async def main():\n",
    "    # Define your study_df, model_name, stream, and other necessary variables\n",
    "    stream = False  # Change to True if you want streaming\n",
    "\n",
    "    # Run the process_completions coroutine\n",
    "    generated_texts = await process_completions(preprocessed_eval_df, model_name, stream, batch_size=1000)\n",
    "    return generated_texts\n",
    "\n",
    "# Run the async main function\n",
    "generated_texts = asyncio.run(main())"
   ]
  },
  {
   "cell_type": "code",
   "execution_count": 179,
   "metadata": {},
   "outputs": [],
   "source": [
    "eval_df_generated = pd.DataFrame(generated_texts)"
   ]
  },
  {
   "cell_type": "code",
   "execution_count": 196,
   "metadata": {},
   "outputs": [
    {
     "name": "stdout",
     "output_type": "stream",
     "text": [
      "Mexico's keeper: unbelieveble\n",
      "Mexico is just ballin\n",
      "lets facken go holland\n",
      "Seriously Netherlands?! Lets goooo!\n",
      "One more goal Mexico!!!!!!!\n",
      "mexico going to win\n",
      "Another offside  goal.\n",
      "Mexico playin good doe\n",
      "Come Dutch, win this\n",
      "Ugh, Mexico can't win!\n",
      "One more goal Mexico!\n",
      "I hope the netherlands win\n",
      "Mexico can't win this game.\n",
      "Holland make a goal now\n",
      "let's go Mexico!  \n",
      "Mexico scoreee (but its offside)\n",
      "I'm diggin Mexico's goalies hair\n",
      "Offside  VS  \n",
      "the dutch goalkeeper looks terrified\n",
      "i S2G  better win\n",
      "Hahahaha this Dutch goalkeeper nahhh\n",
      "Mexico scored a goal. Cool\n",
      "Mexico parking their bus lmaooooo\n",
      "Let's go my fellow Dutch\n",
      "Mexico deserves this win \n",
      "First time rooting against Holland...\n",
      "C'mon mexico make another goal!!\n",
      "Mexico need another goal fast\n",
      "Mexico goal keeper. Great hair.\n",
      "Holland let's goo!! Score already\n",
      "mexico have been top draw\n",
      "Feeling a holland goal here.\n",
      "Mexico ISN'T takin the win.\n",
      ": 66'  0-1 \n",
      " \n",
      "Mexico & Greece have to win‼\n",
      "Mexico we need a second goal\n",
      "Goalllllllll goallllllll goalllllll let's go MEXICO\n",
      "Mexico are using a 3-6-1? Lol\n",
      "So many fucking haters yo \n",
      "Mexico working for tht nxt goal\n",
      "What a match!!!   \n",
      "C'mon Dutch! Score a bloody goal!\n",
      "I smell a goal for \n",
      "really want Mexico to win \n",
      "The Dutch need another striker badly\n",
      "If only it wasn't offsides \n",
      "Come on Holland score a goal\n",
      "Come oooooooon, score already please. \n",
      "65'\n",
      "We need a goal!  !\n",
      "Always knew holland were overrated lmao\n"
     ]
    }
   ],
   "source": [
    "idx = np.random.randint(0, len(eval_df_generated))\n",
    "print(eval_df_generated['text'].iloc[idx])"
   ]
  },
  {
   "cell_type": "code",
   "execution_count": 197,
   "metadata": {},
   "outputs": [
    {
     "name": "stdout",
     "output_type": "stream",
     "text": [
      "After analyzing the tweets, I have the following findings:\n",
      "\n",
      "* **Summary:** The tweets suggest that Mexico and the Netherlands were engaged in a closely contested football match. There were many expressions of excitement, support, and frustration from fans on both sides. Mexico seemed to be dominating the game, with fans calling for their team to score another goal. There were also comments about the Dutch team's performance and their need for a better striker.\n",
      "* **Goal:** Yes. Mexico scored a goal. (Tweet: \"Mexico scored a goal. Cool\")\n",
      "* **Cards:** Not mentioned. There were no mentions of yellow or red cards in the tweets during this minute.\n",
      "* **Kickoff:** Not mentioned. While there are mentions of a kickoff earlier in the game (tweets like \": 66'  0-1\" suggest that a kickoff may have occurred around this time), there is no explicit mention of a kickoff in the tweets during this exact minute.\n",
      "* **Halftime:** Not mentioned. The tweets do not mention the halftime whistle or the end of the first half during this minute.\n",
      "* **Fulltime:** Not mentioned. The tweets do not mention the fulltime whistle or the end of the game during this minute.\n",
      "\n",
      "Note that some tweets (e.g., \"What a match!!!\") suggest that the game was intense and exciting, but they do not provide specific information about the events during this exact minute.\n"
     ]
    }
   ],
   "source": [
    "print(eval_df_generated['generated_text'].iloc[idx])"
   ]
  },
  {
   "cell_type": "code",
   "execution_count": 184,
   "metadata": {},
   "outputs": [],
   "source": [
    "eval_df_generated['EventType'] = eval_df_generated['generated_text']\\\n",
    "    .str\\\n",
    "    .lower()\\\n",
    "    .str\\\n",
    "    .contains(\"yes\")\\\n",
    "    .astype(int)"
   ]
  },
  {
   "cell_type": "code",
   "execution_count": 185,
   "metadata": {},
   "outputs": [],
   "source": [
    "eval_df_generated['MatchID'] = eval_df_generated['text_idx'].apply(lambda x : x[0])\n",
    "eval_df_generated['PeriodID'] = eval_df_generated['text_idx'].apply(lambda x : x[1])"
   ]
  },
  {
   "cell_type": "code",
   "execution_count": 186,
   "metadata": {},
   "outputs": [],
   "source": [
    "x = eval_df.drop_duplicates(\"ID\")[['ID', \"MatchID\", \"PeriodID\"]]"
   ]
  },
  {
   "cell_type": "code",
   "execution_count": 174,
   "metadata": {},
   "outputs": [],
   "source": [
    "pd.merge(\n",
    "    eval_df_generated,\n",
    "    x,\n",
    "    on = ['MatchID', \"PeriodID\"]\n",
    "    \n",
    ")[[\"ID\", \"EventType\"]]\\\n",
    "    .set_index(\"ID\")\\\n",
    "    .to_csv(\"predictions_3.csv\")"
   ]
  },
  {
   "cell_type": "code",
   "execution_count": 188,
   "metadata": {},
   "outputs": [
    {
     "data": {
      "text/plain": [
       "1    0.728682\n",
       "0    0.271318\n",
       "Name: EventType, dtype: float64"
      ]
     },
     "execution_count": 188,
     "metadata": {},
     "output_type": "execute_result"
    }
   ],
   "source": [
    "eval_df_generated['EventType'].value_counts(normalize=True)"
   ]
  },
  {
   "cell_type": "code",
   "execution_count": null,
   "metadata": {},
   "outputs": [],
   "source": []
  }
 ],
 "metadata": {
  "kernelspec": {
   "display_name": "base",
   "language": "python",
   "name": "python3"
  },
  "language_info": {
   "codemirror_mode": {
    "name": "ipython",
    "version": 3
   },
   "file_extension": ".py",
   "mimetype": "text/x-python",
   "name": "python",
   "nbconvert_exporter": "python",
   "pygments_lexer": "ipython3",
   "version": "3.10.9"
  }
 },
 "nbformat": 4,
 "nbformat_minor": 2
}
