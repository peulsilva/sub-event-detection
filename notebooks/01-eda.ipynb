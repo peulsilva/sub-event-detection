{
 "cells": [
  {
   "cell_type": "code",
   "execution_count": 1,
   "metadata": {},
   "outputs": [],
   "source": [
    "%load_ext autoreload\n",
    "%autoreload 2"
   ]
  },
  {
   "cell_type": "markdown",
   "metadata": {},
   "source": [
    "## Exploratory data analysis"
   ]
  },
  {
   "cell_type": "code",
   "execution_count": 19,
   "metadata": {},
   "outputs": [],
   "source": [
    "import os\n",
    "while 'notebooks' in os.getcwd():\n",
    "    os.chdir(\"..\")\n",
    "\n",
    "import numpy as np\n",
    "import pandas as pd \n",
    "from src.path_reader import BASE_PATH_TRAIN\n",
    "from tqdm import tqdm\n",
    "import seaborn as sns\n",
    "import matplotlib.pyplot as plt"
   ]
  },
  {
   "cell_type": "code",
   "execution_count": 4,
   "metadata": {},
   "outputs": [
    {
     "data": {
      "text/plain": [
       "['ArgentinaBelgium72.csv',\n",
       " 'AustraliaSpain34.csv',\n",
       " 'CameroonBrazil36.csv',\n",
       " 'USASlovenia2010.csv',\n",
       " 'GermanyAlgeria67.csv',\n",
       " 'GermanyBrazil74.csv',\n",
       " 'MexicoCroatia37.csv',\n",
       " 'HondurasSwitzerland54.csv',\n",
       " 'ArgentinaGermanyFinal77.csv',\n",
       " 'AustraliaNetherlands29.csv',\n",
       " 'NetherlandsChile35.csv',\n",
       " 'GermanyUSA57.csv',\n",
       " 'FranceGermany70.csv',\n",
       " 'FranceNigeria66.csv',\n",
       " 'BelgiumSouthKorea59.csv',\n",
       " 'PortugalGhana58.csv']"
      ]
     },
     "execution_count": 4,
     "metadata": {},
     "output_type": "execute_result"
    }
   ],
   "source": [
    "os.listdir(BASE_PATH_TRAIN)"
   ]
  },
  {
   "cell_type": "code",
   "execution_count": 6,
   "metadata": {},
   "outputs": [
    {
     "data": {
      "text/plain": [
       "16"
      ]
     },
     "execution_count": 6,
     "metadata": {},
     "output_type": "execute_result"
    }
   ],
   "source": [
    "len(os.listdir(BASE_PATH_TRAIN))"
   ]
  },
  {
   "cell_type": "code",
   "execution_count": 9,
   "metadata": {},
   "outputs": [
    {
     "name": "stderr",
     "output_type": "stream",
     "text": [
      "100%|██████████| 16/16 [00:09<00:00,  1.68it/s]\n"
     ]
    }
   ],
   "source": [
    "all_dfs = []\n",
    "for file in tqdm(os.listdir(BASE_PATH_TRAIN)):\n",
    "    file_path = os.path.join(BASE_PATH_TRAIN, file)\n",
    "    all_dfs.append(pd.read_csv(file_path))"
   ]
  },
  {
   "cell_type": "code",
   "execution_count": 12,
   "metadata": {},
   "outputs": [
    {
     "data": {
      "text/html": [
       "<div>\n",
       "<style scoped>\n",
       "    .dataframe tbody tr th:only-of-type {\n",
       "        vertical-align: middle;\n",
       "    }\n",
       "\n",
       "    .dataframe tbody tr th {\n",
       "        vertical-align: top;\n",
       "    }\n",
       "\n",
       "    .dataframe thead th {\n",
       "        text-align: right;\n",
       "    }\n",
       "</style>\n",
       "<table border=\"1\" class=\"dataframe\">\n",
       "  <thead>\n",
       "    <tr style=\"text-align: right;\">\n",
       "      <th></th>\n",
       "      <th>ID</th>\n",
       "      <th>MatchID</th>\n",
       "      <th>PeriodID</th>\n",
       "      <th>EventType</th>\n",
       "      <th>Timestamp</th>\n",
       "      <th>Tweet</th>\n",
       "    </tr>\n",
       "  </thead>\n",
       "  <tbody>\n",
       "    <tr>\n",
       "      <th>0</th>\n",
       "      <td>11_0</td>\n",
       "      <td>11</td>\n",
       "      <td>0</td>\n",
       "      <td>0</td>\n",
       "      <td>1404575400000</td>\n",
       "      <td>RT @2014WorIdCup: Argentina vs Belgium\\n\\nWho ...</td>\n",
       "    </tr>\n",
       "    <tr>\n",
       "      <th>1</th>\n",
       "      <td>11_0</td>\n",
       "      <td>11</td>\n",
       "      <td>0</td>\n",
       "      <td>0</td>\n",
       "      <td>1404575400000</td>\n",
       "      <td>@elijahman_ time to focus on Belgium winning t...</td>\n",
       "    </tr>\n",
       "    <tr>\n",
       "      <th>2</th>\n",
       "      <td>11_0</td>\n",
       "      <td>11</td>\n",
       "      <td>0</td>\n",
       "      <td>0</td>\n",
       "      <td>1404575400000</td>\n",
       "      <td>RT @FIFAWorldCup: GLOBAL STADIUM: #Joinin with...</td>\n",
       "    </tr>\n",
       "    <tr>\n",
       "      <th>3</th>\n",
       "      <td>11_0</td>\n",
       "      <td>11</td>\n",
       "      <td>0</td>\n",
       "      <td>0</td>\n",
       "      <td>1404575400000</td>\n",
       "      <td>RT @CatholicNewsSvc: #PopeFrancis. Uh-oh. Arge...</td>\n",
       "    </tr>\n",
       "    <tr>\n",
       "      <th>4</th>\n",
       "      <td>11_0</td>\n",
       "      <td>11</td>\n",
       "      <td>0</td>\n",
       "      <td>0</td>\n",
       "      <td>1404575400000</td>\n",
       "      <td>RT @soccerdotcom: If he scores vs #BEL we'll a...</td>\n",
       "    </tr>\n",
       "    <tr>\n",
       "      <th>...</th>\n",
       "      <td>...</td>\n",
       "      <td>...</td>\n",
       "      <td>...</td>\n",
       "      <td>...</td>\n",
       "      <td>...</td>\n",
       "      <td>...</td>\n",
       "    </tr>\n",
       "    <tr>\n",
       "      <th>272384</th>\n",
       "      <td>3_129</td>\n",
       "      <td>3</td>\n",
       "      <td>129</td>\n",
       "      <td>1</td>\n",
       "      <td>1403805600000</td>\n",
       "      <td>RT @RealEsparta: #POR 2-1 #GHA: Cristiano Rona...</td>\n",
       "    </tr>\n",
       "    <tr>\n",
       "      <th>272385</th>\n",
       "      <td>3_129</td>\n",
       "      <td>3</td>\n",
       "      <td>129</td>\n",
       "      <td>1</td>\n",
       "      <td>1403805600000</td>\n",
       "      <td>RT @NBCSports: USA MOVES ON! Germany beats #US...</td>\n",
       "    </tr>\n",
       "    <tr>\n",
       "      <th>272386</th>\n",
       "      <td>3_129</td>\n",
       "      <td>3</td>\n",
       "      <td>129</td>\n",
       "      <td>1</td>\n",
       "      <td>1403805600000</td>\n",
       "      <td>RT @xTrustAndObey: Folks don't rate Ghana. smh...</td>\n",
       "    </tr>\n",
       "    <tr>\n",
       "      <th>272387</th>\n",
       "      <td>3_129</td>\n",
       "      <td>3</td>\n",
       "      <td>129</td>\n",
       "      <td>1</td>\n",
       "      <td>1403805600000</td>\n",
       "      <td>Ronaldo could have easily scored 4-5 goals ton...</td>\n",
       "    </tr>\n",
       "    <tr>\n",
       "      <th>272388</th>\n",
       "      <td>3_129</td>\n",
       "      <td>3</td>\n",
       "      <td>129</td>\n",
       "      <td>1</td>\n",
       "      <td>1403805600000</td>\n",
       "      <td>@dubroland the United States would not have pa...</td>\n",
       "    </tr>\n",
       "  </tbody>\n",
       "</table>\n",
       "<p>5056050 rows × 6 columns</p>\n",
       "</div>"
      ],
      "text/plain": [
       "           ID  MatchID  PeriodID  EventType      Timestamp  \\\n",
       "0        11_0       11         0          0  1404575400000   \n",
       "1        11_0       11         0          0  1404575400000   \n",
       "2        11_0       11         0          0  1404575400000   \n",
       "3        11_0       11         0          0  1404575400000   \n",
       "4        11_0       11         0          0  1404575400000   \n",
       "...       ...      ...       ...        ...            ...   \n",
       "272384  3_129        3       129          1  1403805600000   \n",
       "272385  3_129        3       129          1  1403805600000   \n",
       "272386  3_129        3       129          1  1403805600000   \n",
       "272387  3_129        3       129          1  1403805600000   \n",
       "272388  3_129        3       129          1  1403805600000   \n",
       "\n",
       "                                                    Tweet  \n",
       "0       RT @2014WorIdCup: Argentina vs Belgium\\n\\nWho ...  \n",
       "1       @elijahman_ time to focus on Belgium winning t...  \n",
       "2       RT @FIFAWorldCup: GLOBAL STADIUM: #Joinin with...  \n",
       "3       RT @CatholicNewsSvc: #PopeFrancis. Uh-oh. Arge...  \n",
       "4       RT @soccerdotcom: If he scores vs #BEL we'll a...  \n",
       "...                                                   ...  \n",
       "272384  RT @RealEsparta: #POR 2-1 #GHA: Cristiano Rona...  \n",
       "272385  RT @NBCSports: USA MOVES ON! Germany beats #US...  \n",
       "272386  RT @xTrustAndObey: Folks don't rate Ghana. smh...  \n",
       "272387  Ronaldo could have easily scored 4-5 goals ton...  \n",
       "272388  @dubroland the United States would not have pa...  \n",
       "\n",
       "[5056050 rows x 6 columns]"
      ]
     },
     "execution_count": 12,
     "metadata": {},
     "output_type": "execute_result"
    }
   ],
   "source": [
    "train_df = pd.concat(all_dfs)\n",
    "train_df"
   ]
  },
  {
   "cell_type": "markdown",
   "metadata": {},
   "source": [
    "#### Number of tweets in each match"
   ]
  },
  {
   "cell_type": "code",
   "execution_count": 26,
   "metadata": {},
   "outputs": [
    {
     "data": {
      "text/plain": [
       "array([11,  2,  8, 18,  4,  1, 19,  0, 10, 12,  7, 17,  5, 13, 14,  3])"
      ]
     },
     "execution_count": 26,
     "metadata": {},
     "output_type": "execute_result"
    }
   ],
   "source": [
    "train_df['MatchID'].unique()"
   ]
  },
  {
   "cell_type": "code",
   "execution_count": 29,
   "metadata": {},
   "outputs": [
    {
     "data": {
      "image/png": "[encoded data removed]",
      "text/plain": [
       "<Figure size 640x480 with 1 Axes>"
      ]
     },
     "metadata": {},
     "output_type": "display_data"
    }
   ],
   "source": [
    "plt.hist(train_df['MatchID'], alpha = 0.7, bins=19)\n",
    "plt.xlabel(\"MatchID\")\n",
    "plt.ylabel(\"Number of tweets\")\n",
    "plt.grid()"
   ]
  },
  {
   "cell_type": "markdown",
   "metadata": {},
   "source": [
    "#### Missing values"
   ]
  },
  {
   "cell_type": "code",
   "execution_count": 32,
   "metadata": {},
   "outputs": [
    {
     "data": {
      "text/plain": [
       "ID           0\n",
       "MatchID      0\n",
       "PeriodID     0\n",
       "EventType    0\n",
       "Timestamp    0\n",
       "Tweet        0\n",
       "dtype: int64"
      ]
     },
     "execution_count": 32,
     "metadata": {},
     "output_type": "execute_result"
    }
   ],
   "source": [
    "train_df.isna().sum()"
   ]
  },
  {
   "cell_type": "markdown",
   "metadata": {},
   "source": [
    "#### Average length of tweets"
   ]
  },
  {
   "cell_type": "code",
   "execution_count": 38,
   "metadata": {},
   "outputs": [],
   "source": [
    "def get_text_len(x: pd.Series):\n",
    "    return x.apply(lambda u : len(u.split(\" \"))).mean()\n",
    "\n"
   ]
  },
  {
   "cell_type": "code",
   "execution_count": 39,
   "metadata": {},
   "outputs": [
    {
     "data": {
      "text/plain": [
       "MatchID\n",
       "0     17.174727\n",
       "1     12.479847\n",
       "2     18.234941\n",
       "3     15.102985\n",
       "4     13.311508\n",
       "5     13.804027\n",
       "7     16.500704\n",
       "8     15.328575\n",
       "10    12.576063\n",
       "11    13.810053\n",
       "12    14.555032\n",
       "13    14.142400\n",
       "14    16.002349\n",
       "17    15.009152\n",
       "18    13.972232\n",
       "19    14.412185\n",
       "Name: Tweet, dtype: float64"
      ]
     },
     "execution_count": 39,
     "metadata": {},
     "output_type": "execute_result"
    }
   ],
   "source": [
    "train_df.groupby(\"MatchID\")\\\n",
    "    .Tweet\\\n",
    "    .apply(get_text_len)"
   ]
  },
  {
   "cell_type": "markdown",
   "metadata": {},
   "source": [
    "#### Analysing column PeriodID"
   ]
  },
  {
   "cell_type": "code",
   "execution_count": 46,
   "metadata": {},
   "outputs": [
    {
     "data": {
      "text/plain": [
       "<Axes: xlabel='PeriodID', ylabel='Count'>"
      ]
     },
     "execution_count": 46,
     "metadata": {},
     "output_type": "execute_result"
    },
    {
     "data": {
      "image/png": "[encoded data removed]",
      "text/plain": [
       "<Figure size 640x480 with 1 Axes>"
      ]
     },
     "metadata": {},
     "output_type": "display_data"
    }
   ],
   "source": [
    "sns.histplot(train_df['PeriodID'])"
   ]
  },
  {
   "cell_type": "markdown",
   "metadata": {},
   "source": [
    "#### Distribution of Targets"
   ]
  },
  {
   "cell_type": "code",
   "execution_count": 61,
   "metadata": {},
   "outputs": [
    {
     "data": {
      "text/plain": [
       "Text(0.5, 1.0, '% Of positive targets in the dataset')"
      ]
     },
     "execution_count": 61,
     "metadata": {},
     "output_type": "execute_result"
    },
    {
     "data": {
      "image/png": "[encoded data removed]",
      "text/plain": [
       "<Figure size 640x480 with 1 Axes>"
      ]
     },
     "metadata": {},
     "output_type": "display_data"
    }
   ],
   "source": [
    "train_df.groupby(\"MatchID\")\\\n",
    "    ['EventType']\\\n",
    "    .mean()\\\n",
    "    .plot.bar(\n",
    "        alpha = 0.7,\n",
    "    )\n",
    "\n",
    "plt.grid()\n",
    "plt.title(\"% Of positive targets in the dataset\")"
   ]
  },
  {
   "cell_type": "code",
   "execution_count": 123,
   "metadata": {},
   "outputs": [],
   "source": [
    "np.random.seed(1)\n",
    "train_idx = sorted(np.random.choice(train_df['MatchID'].unique(), 10, replace=False))"
   ]
  },
  {
   "cell_type": "code",
   "execution_count": 126,
   "metadata": {},
   "outputs": [
    {
     "data": {
      "text/plain": [
       "[0, 2, 4, 7, 8, 11, 13, 14, 18, 19]"
      ]
     },
     "execution_count": 126,
     "metadata": {},
     "output_type": "execute_result"
    }
   ],
   "source": [
    "list(train_idx)"
   ]
  },
  {
   "cell_type": "code",
   "execution_count": 127,
   "metadata": {},
   "outputs": [
    {
     "data": {
      "text/plain": [
       "[1, 3, 5, 10, 12, 17]"
      ]
     },
     "execution_count": 127,
     "metadata": {},
     "output_type": "execute_result"
    }
   ],
   "source": [
    "train_idx = set(train_idx)\n",
    "test_idx = set(train_df['MatchID'].unique()) - train_idx\n",
    "\n",
    "list(test_idx)"
   ]
  }
 ],
 "metadata": {
  "kernelspec": {
   "display_name": "base",
   "language": "python",
   "name": "python3"
  },
  "language_info": {
   "codemirror_mode": {
    "name": "ipython",
    "version": 3
   },
   "file_extension": ".py",
   "mimetype": "text/x-python",
   "name": "python",
   "nbconvert_exporter": "python",
   "pygments_lexer": "ipython3",
   "version": "3.10.9"
  }
 },
 "nbformat": 4,
 "nbformat_minor": 2
}
