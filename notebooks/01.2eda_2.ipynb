{
 "cells": [
  {
   "cell_type": "code",
   "execution_count": null,
   "metadata": {},
   "outputs": [
    {
     "name": "stdout",
     "output_type": "stream",
     "text": [
      "The autoreload extension is already loaded. To reload it, use:\n",
      "  %reload_ext autoreload\n"
     ]
    }
   ],
   "source": [
    "%load_ext autoreload\n",
    "%autoreload 2"
   ]
  },
  {
   "cell_type": "markdown",
   "metadata": {},
   "source": [
    "## Exploratory data analysis"
   ]
  },
  {
   "cell_type": "code",
   "execution_count": 55,
   "metadata": {},
   "outputs": [],
   "source": [
    "import os\n",
    "while 'notebooks' in os.getcwd():\n",
    "    os.chdir(\"..\")\n",
    "\n",
    "import numpy as np\n",
    "import pandas as pd \n",
    "from src.path_reader import BASE_PATH_TRAIN, BASE_PATH_TEST\n",
    "from tqdm import tqdm\n",
    "import seaborn as sns\n",
    "import matplotlib.pyplot as plt\n",
    "from wordcloud import WordCloud\n",
    "from src.utils import preprocess_data"
   ]
  },
  {
   "cell_type": "code",
   "execution_count": 56,
   "metadata": {},
   "outputs": [
    {
     "data": {
      "text/plain": [
       "['GermanyGhana32.csv',\n",
       " 'GermanySerbia2010.csv',\n",
       " 'GreeceIvoryCoast44.csv',\n",
       " 'NetherlandsMexico64.csv']"
      ]
     },
     "execution_count": 56,
     "metadata": {},
     "output_type": "execute_result"
    }
   ],
   "source": [
    "os.listdir(BASE_PATH_TEST)"
   ]
  },
  {
   "cell_type": "code",
   "execution_count": 61,
   "metadata": {},
   "outputs": [
    {
     "data": {
      "text/html": [
       "<div>\n",
       "<style scoped>\n",
       "    .dataframe tbody tr th:only-of-type {\n",
       "        vertical-align: middle;\n",
       "    }\n",
       "\n",
       "    .dataframe tbody tr th {\n",
       "        vertical-align: top;\n",
       "    }\n",
       "\n",
       "    .dataframe thead th {\n",
       "        text-align: right;\n",
       "    }\n",
       "</style>\n",
       "<table border=\"1\" class=\"dataframe\">\n",
       "  <thead>\n",
       "    <tr style=\"text-align: right;\">\n",
       "      <th></th>\n",
       "      <th>ID</th>\n",
       "      <th>MatchID</th>\n",
       "      <th>PeriodID</th>\n",
       "      <th>Timestamp</th>\n",
       "      <th>Tweet</th>\n",
       "    </tr>\n",
       "  </thead>\n",
       "  <tbody>\n",
       "    <tr>\n",
       "      <th>0</th>\n",
       "      <td>15_0</td>\n",
       "      <td>15</td>\n",
       "      <td>0</td>\n",
       "      <td>1404057289000</td>\n",
       "      <td>I feel like shit &gt;.&lt; but gonna watch the game ...</td>\n",
       "    </tr>\n",
       "    <tr>\n",
       "      <th>1</th>\n",
       "      <td>15_0</td>\n",
       "      <td>15</td>\n",
       "      <td>0</td>\n",
       "      <td>1404057289000</td>\n",
       "      <td>As much as I like Herrera and Ochoa (because h...</td>\n",
       "    </tr>\n",
       "    <tr>\n",
       "      <th>5</th>\n",
       "      <td>15_0</td>\n",
       "      <td>15</td>\n",
       "      <td>0</td>\n",
       "      <td>1404057289000</td>\n",
       "      <td>It's nice to see the underdog win sometimes so...</td>\n",
       "    </tr>\n",
       "    <tr>\n",
       "      <th>6</th>\n",
       "      <td>15_0</td>\n",
       "      <td>15</td>\n",
       "      <td>0</td>\n",
       "      <td>1404057289000</td>\n",
       "      <td>Micheladas, modelos, tecates, and tequila for ...</td>\n",
       "    </tr>\n",
       "    <tr>\n",
       "      <th>9</th>\n",
       "      <td>15_0</td>\n",
       "      <td>15</td>\n",
       "      <td>0</td>\n",
       "      <td>1404057289000</td>\n",
       "      <td>Any bets on today's #FIFA game? I bid #Netherl...</td>\n",
       "    </tr>\n",
       "    <tr>\n",
       "      <th>...</th>\n",
       "      <td>...</td>\n",
       "      <td>...</td>\n",
       "      <td>...</td>\n",
       "      <td>...</td>\n",
       "      <td>...</td>\n",
       "    </tr>\n",
       "    <tr>\n",
       "      <th>628682</th>\n",
       "      <td>15_125</td>\n",
       "      <td>15</td>\n",
       "      <td>125</td>\n",
       "      <td>1404064800000</td>\n",
       "      <td>How come Ireland never makes it into the #Worl...</td>\n",
       "    </tr>\n",
       "    <tr>\n",
       "      <th>628690</th>\n",
       "      <td>15_125</td>\n",
       "      <td>15</td>\n",
       "      <td>125</td>\n",
       "      <td>1404064800000</td>\n",
       "      <td>#MEX what a team ! #Ochoa World Cup goal keeper !</td>\n",
       "    </tr>\n",
       "    <tr>\n",
       "      <th>628691</th>\n",
       "      <td>15_125</td>\n",
       "      <td>15</td>\n",
       "      <td>125</td>\n",
       "      <td>1404064800000</td>\n",
       "      <td>Harsh on Mexico though! #MEX</td>\n",
       "    </tr>\n",
       "    <tr>\n",
       "      <th>628693</th>\n",
       "      <td>15_125</td>\n",
       "      <td>15</td>\n",
       "      <td>125</td>\n",
       "      <td>1404064800000</td>\n",
       "      <td>Dutch deserve to be in last 8.Keep their nerve...</td>\n",
       "    </tr>\n",
       "    <tr>\n",
       "      <th>628695</th>\n",
       "      <td>15_125</td>\n",
       "      <td>15</td>\n",
       "      <td>125</td>\n",
       "      <td>1404064800000</td>\n",
       "      <td>Hold your head high Mexico, played beautifully...</td>\n",
       "    </tr>\n",
       "  </tbody>\n",
       "</table>\n",
       "<p>210956 rows × 5 columns</p>\n",
       "</div>"
      ],
      "text/plain": [
       "            ID  MatchID  PeriodID      Timestamp  \\\n",
       "0         15_0       15         0  1404057289000   \n",
       "1         15_0       15         0  1404057289000   \n",
       "5         15_0       15         0  1404057289000   \n",
       "6         15_0       15         0  1404057289000   \n",
       "9         15_0       15         0  1404057289000   \n",
       "...        ...      ...       ...            ...   \n",
       "628682  15_125       15       125  1404064800000   \n",
       "628690  15_125       15       125  1404064800000   \n",
       "628691  15_125       15       125  1404064800000   \n",
       "628693  15_125       15       125  1404064800000   \n",
       "628695  15_125       15       125  1404064800000   \n",
       "\n",
       "                                                    Tweet  \n",
       "0       I feel like shit >.< but gonna watch the game ...  \n",
       "1       As much as I like Herrera and Ochoa (because h...  \n",
       "5       It's nice to see the underdog win sometimes so...  \n",
       "6       Micheladas, modelos, tecates, and tequila for ...  \n",
       "9       Any bets on today's #FIFA game? I bid #Netherl...  \n",
       "...                                                   ...  \n",
       "628682  How come Ireland never makes it into the #Worl...  \n",
       "628690  #MEX what a team ! #Ochoa World Cup goal keeper !  \n",
       "628691                       Harsh on Mexico though! #MEX  \n",
       "628693  Dutch deserve to be in last 8.Keep their nerve...  \n",
       "628695  Hold your head high Mexico, played beautifully...  \n",
       "\n",
       "[210956 rows x 5 columns]"
      ]
     },
     "execution_count": 61,
     "metadata": {},
     "output_type": "execute_result"
    }
   ],
   "source": [
    "df = pd.read_csv(os.path.join(BASE_PATH_TEST, \"NetherlandsMexico64.csv\"))\n",
    "df = preprocess_data(df)\n",
    "\n",
    "df"
   ]
  },
  {
   "cell_type": "code",
   "execution_count": null,
   "metadata": {},
   "outputs": [
    {
     "data": {
      "text/plain": [
       "EventType\n",
       "1.0    0.569231\n",
       "0.0    0.430769\n",
       "Name: proportion, dtype: float64"
      ]
     },
     "execution_count": 54,
     "metadata": {},
     "output_type": "execute_result"
    }
   ],
   "source": [
    "df.groupby([\"MatchID\", \"PeriodID\"]).EventType.mean().value_counts(normalize=True)"
   ]
  },
  {
   "cell_type": "code",
   "execution_count": 44,
   "metadata": {},
   "outputs": [
    {
     "data": {
      "text/plain": [
       "EventType\n",
       "0.0    74\n",
       "1.0    56\n",
       "Name: count, dtype: int64"
      ]
     },
     "execution_count": 44,
     "metadata": {},
     "output_type": "execute_result"
    }
   ],
   "source": [
    "df.groupby([\"MatchID\", \"PeriodID\"]).EventType.mean().value_counts(normalize=False)"
   ]
  }
 ],
 "metadata": {
  "kernelspec": {
   "display_name": "Python 3",
   "language": "python",
   "name": "python3"
  },
  "language_info": {
   "codemirror_mode": {
    "name": "ipython",
    "version": 3
   },
   "file_extension": ".py",
   "mimetype": "text/x-python",
   "name": "python",
   "nbconvert_exporter": "python",
   "pygments_lexer": "ipython3",
   "version": "3.11.9"
  }
 },
 "nbformat": 4,
 "nbformat_minor": 2
}
