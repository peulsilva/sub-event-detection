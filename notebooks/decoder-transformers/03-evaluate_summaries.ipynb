{
 "cells": [
  {
   "cell_type": "code",
   "execution_count": 1,
   "metadata": {},
   "outputs": [],
   "source": [
    "%load_ext autoreload\n",
    "%autoreload 2"
   ]
  },
  {
   "cell_type": "markdown",
   "metadata": {},
   "source": [
    "## Generating summaries"
   ]
  },
  {
   "cell_type": "code",
   "execution_count": 2,
   "metadata": {},
   "outputs": [],
   "source": [
    "import os\n",
    "while 'notebooks' in os.getcwd():\n",
    "    os.chdir(\"..\")\n",
    "\n",
    "import numpy as np\n",
    "import pandas as pd \n",
    "from src.utils import train_test_split, get_sample_weights, get_eval_set\n",
    "from src.preprocessing import preprocess_data\n",
    "from tqdm import tqdm\n",
    "import seaborn as sns\n",
    "import matplotlib.pyplot as plt\n",
    "from transformers import AutoModelForSequenceClassification, AutoTokenizer, AutoModel, AutoModelForCausalLM\n",
    "from src.preprocessing import TextDataset\n",
    "import torch\n",
    "from torch.utils.data import DataLoader, Dataset\n",
    "from IPython.display import clear_output\n",
    "from sklearn.metrics import accuracy_score, f1_score, confusion_matrix, precision_score, roc_auc_score\n",
    "from sentence_transformers import SentenceTransformer, InputExample, losses, evaluation, LoggingHandler\n",
    "import logging\n",
    "from copy import deepcopy\n",
    "from sklearn.decomposition import PCA\n",
    "from huggingface_hub import notebook_login\n",
    "from sklearn.ensemble import RandomForestClassifier\n",
    "from peft import get_peft_model, LoraConfig, TaskType\n",
    "from collections import defaultdict\n",
    "import transformers\n",
    "from peft import get_peft_model, LoraConfig, TaskType\n",
    "import re\n",
    "from bert_score import BERTScorer\n",
    "import langid\n",
    "from src.utils import aggregate_samples, evaluate_model, compute_class_weights, remove_hashtag_links, get_first_texts\n",
    "from torch.optim.lr_scheduler import ReduceLROnPlateau\n",
    "\n",
    "from transformers import BitsAndBytesConfig\n",
    "\n",
    "tqdm.pandas()"
   ]
  },
  {
   "cell_type": "code",
   "execution_count": 3,
   "metadata": {},
   "outputs": [],
   "source": [
    "import pandas as pd"
   ]
  },
  {
   "cell_type": "code",
   "execution_count": 4,
   "metadata": {},
   "outputs": [],
   "source": [
    "df = pd.read_csv(\"generated_predictions_final.csv\")"
   ]
  },
  {
   "cell_type": "code",
   "execution_count": 8,
   "metadata": {},
   "outputs": [],
   "source": [
    "df['y_pred'] = df['summary'].str.lower().str.contains('yes')"
   ]
  },
  {
   "cell_type": "code",
   "execution_count": 22,
   "metadata": {},
   "outputs": [
    {
     "name": "stdout",
     "output_type": "stream",
     "text": [
      "\n",
      "\n",
      "**Summary of Events:**\n",
      "The tweets suggest that Honduras scored a goal against Switzerland, with the score being 1-0 in favor of Switzerland at the end of the minute. Fans are excited and optimistic about the match, with some expressing hope for a win against Brazil in the next match.\n",
      "\n",
      "**Specific Event Analysis:**\n",
      "- Goal: **Yes**, scored by Honduras (not explicitly mentioned, but implied by the tweets).\n",
      "- Yellow Card: **Not mentioned**\n",
      "- Red Card: **Not mentioned**\n",
      "- Kickoff: **Not mentioned** (no indication of a kickoff, as the match has already started)\n",
      "- Halftime: **Not mentioned**\n",
      "- Fulltime: **Not mentioned**\n"
     ]
    }
   ],
   "source": [
    "print(df.query(\"y_pred == 1 & label == 0\")['summary'].iloc[3])"
   ]
  },
  {
   "cell_type": "code",
   "execution_count": 23,
   "metadata": {},
   "outputs": [
    {
     "data": {
      "text/html": [
       "<div>\n",
       "<style scoped>\n",
       "    .dataframe tbody tr th:only-of-type {\n",
       "        vertical-align: middle;\n",
       "    }\n",
       "\n",
       "    .dataframe tbody tr th {\n",
       "        vertical-align: top;\n",
       "    }\n",
       "\n",
       "    .dataframe thead th {\n",
       "        text-align: right;\n",
       "    }\n",
       "</style>\n",
       "<table border=\"1\" class=\"dataframe\">\n",
       "  <thead>\n",
       "    <tr style=\"text-align: right;\">\n",
       "      <th></th>\n",
       "      <th>Unnamed: 0</th>\n",
       "      <th>summary</th>\n",
       "      <th>label</th>\n",
       "      <th>Tweet</th>\n",
       "      <th>MatchID</th>\n",
       "      <th>PeriodID</th>\n",
       "      <th>y_pred</th>\n",
       "    </tr>\n",
       "  </thead>\n",
       "  <tbody>\n",
       "    <tr>\n",
       "      <th>0</th>\n",
       "      <td>0</td>\n",
       "      <td>\\n\\n**Summary of Events:**\\nThe tweets appear ...</td>\n",
       "      <td>0.0</td>\n",
       "      <td>Robbie Fowler predicting a Honduras win? #Worl...</td>\n",
       "      <td>0</td>\n",
       "      <td>0</td>\n",
       "      <td>False</td>\n",
       "    </tr>\n",
       "    <tr>\n",
       "      <th>1</th>\n",
       "      <td>1</td>\n",
       "      <td>\\n\\n**Summary of Events:**\\nThe tweets appear ...</td>\n",
       "      <td>0.0</td>\n",
       "      <td>can #hon please win...\\nLego Honduras and Fran...</td>\n",
       "      <td>0</td>\n",
       "      <td>1</td>\n",
       "      <td>False</td>\n",
       "    </tr>\n",
       "    <tr>\n",
       "      <th>2</th>\n",
       "      <td>2</td>\n",
       "      <td>\\n\\n**Summary of Events:**\\nThe tweets suggest...</td>\n",
       "      <td>0.0</td>\n",
       "      <td>Hoy golea Costly. #HON\\nMy Predictions: \\n#ECU...</td>\n",
       "      <td>0</td>\n",
       "      <td>2</td>\n",
       "      <td>False</td>\n",
       "    </tr>\n",
       "    <tr>\n",
       "      <th>3</th>\n",
       "      <td>3</td>\n",
       "      <td>\\n\\n**Summary of Events:**\\nThe tweets suggest...</td>\n",
       "      <td>0.0</td>\n",
       "      <td>Honduras better kick some ass\\nCome on Hondura...</td>\n",
       "      <td>0</td>\n",
       "      <td>3</td>\n",
       "      <td>False</td>\n",
       "    </tr>\n",
       "    <tr>\n",
       "      <th>4</th>\n",
       "      <td>4</td>\n",
       "      <td>\\n\\n**Summary of Events:**\\nThe tweets suggest...</td>\n",
       "      <td>0.0</td>\n",
       "      <td>Honduras is taking the win lets go!!\\nHonduras...</td>\n",
       "      <td>0</td>\n",
       "      <td>4</td>\n",
       "      <td>False</td>\n",
       "    </tr>\n",
       "    <tr>\n",
       "      <th>...</th>\n",
       "      <td>...</td>\n",
       "      <td>...</td>\n",
       "      <td>...</td>\n",
       "      <td>...</td>\n",
       "      <td>...</td>\n",
       "      <td>...</td>\n",
       "      <td>...</td>\n",
       "    </tr>\n",
       "    <tr>\n",
       "      <th>2132</th>\n",
       "      <td>2132</td>\n",
       "      <td>\\n\\n**Summary of Events:**\\nThe tweets suggest...</td>\n",
       "      <td>1.0</td>\n",
       "      <td>What a win!\\n#MEX #win\\nWe got this #MEX win!!...</td>\n",
       "      <td>19</td>\n",
       "      <td>125</td>\n",
       "      <td>True</td>\n",
       "    </tr>\n",
       "    <tr>\n",
       "      <th>2133</th>\n",
       "      <td>2133</td>\n",
       "      <td>\\n\\n**Summary of Events:**\\nThe tweets suggest...</td>\n",
       "      <td>1.0</td>\n",
       "      <td>He'll yea 3-1 #MEX\\n#mex doing work #ochoashow...</td>\n",
       "      <td>19</td>\n",
       "      <td>126</td>\n",
       "      <td>True</td>\n",
       "    </tr>\n",
       "    <tr>\n",
       "      <th>2134</th>\n",
       "      <td>2134</td>\n",
       "      <td>\\n\\n**Summary of Events:**\\nThe tweets suggest...</td>\n",
       "      <td>1.0</td>\n",
       "      <td>FULL TIME!!!\\n#CRO 1-3 #MEX\\n#WorldCup\\nCielit...</td>\n",
       "      <td>19</td>\n",
       "      <td>127</td>\n",
       "      <td>True</td>\n",
       "    </tr>\n",
       "    <tr>\n",
       "      <th>2135</th>\n",
       "      <td>2135</td>\n",
       "      <td>\\n\\n**Summary of Events:**\\nThe tweets suggest...</td>\n",
       "      <td>1.0</td>\n",
       "      <td>Great win for #mex\\n#mex for the win\\n#NED vs ...</td>\n",
       "      <td>19</td>\n",
       "      <td>128</td>\n",
       "      <td>True</td>\n",
       "    </tr>\n",
       "    <tr>\n",
       "      <th>2136</th>\n",
       "      <td>2136</td>\n",
       "      <td>\\n\\n**Summary of Events:**\\nThe tweets suggest...</td>\n",
       "      <td>1.0</td>\n",
       "      <td>#MEX gonna win 1-0 against #NED\\nMexico will b...</td>\n",
       "      <td>19</td>\n",
       "      <td>129</td>\n",
       "      <td>True</td>\n",
       "    </tr>\n",
       "  </tbody>\n",
       "</table>\n",
       "<p>2137 rows × 7 columns</p>\n",
       "</div>"
      ],
      "text/plain": [
       "      Unnamed: 0                                            summary  label  \\\n",
       "0              0  \\n\\n**Summary of Events:**\\nThe tweets appear ...    0.0   \n",
       "1              1  \\n\\n**Summary of Events:**\\nThe tweets appear ...    0.0   \n",
       "2              2  \\n\\n**Summary of Events:**\\nThe tweets suggest...    0.0   \n",
       "3              3  \\n\\n**Summary of Events:**\\nThe tweets suggest...    0.0   \n",
       "4              4  \\n\\n**Summary of Events:**\\nThe tweets suggest...    0.0   \n",
       "...          ...                                                ...    ...   \n",
       "2132        2132  \\n\\n**Summary of Events:**\\nThe tweets suggest...    1.0   \n",
       "2133        2133  \\n\\n**Summary of Events:**\\nThe tweets suggest...    1.0   \n",
       "2134        2134  \\n\\n**Summary of Events:**\\nThe tweets suggest...    1.0   \n",
       "2135        2135  \\n\\n**Summary of Events:**\\nThe tweets suggest...    1.0   \n",
       "2136        2136  \\n\\n**Summary of Events:**\\nThe tweets suggest...    1.0   \n",
       "\n",
       "                                                  Tweet  MatchID  PeriodID  \\\n",
       "0     Robbie Fowler predicting a Honduras win? #Worl...        0         0   \n",
       "1     can #hon please win...\\nLego Honduras and Fran...        0         1   \n",
       "2     Hoy golea Costly. #HON\\nMy Predictions: \\n#ECU...        0         2   \n",
       "3     Honduras better kick some ass\\nCome on Hondura...        0         3   \n",
       "4     Honduras is taking the win lets go!!\\nHonduras...        0         4   \n",
       "...                                                 ...      ...       ...   \n",
       "2132  What a win!\\n#MEX #win\\nWe got this #MEX win!!...       19       125   \n",
       "2133  He'll yea 3-1 #MEX\\n#mex doing work #ochoashow...       19       126   \n",
       "2134  FULL TIME!!!\\n#CRO 1-3 #MEX\\n#WorldCup\\nCielit...       19       127   \n",
       "2135  Great win for #mex\\n#mex for the win\\n#NED vs ...       19       128   \n",
       "2136  #MEX gonna win 1-0 against #NED\\nMexico will b...       19       129   \n",
       "\n",
       "      y_pred  \n",
       "0      False  \n",
       "1      False  \n",
       "2      False  \n",
       "3      False  \n",
       "4      False  \n",
       "...      ...  \n",
       "2132    True  \n",
       "2133    True  \n",
       "2134    True  \n",
       "2135    True  \n",
       "2136    True  \n",
       "\n",
       "[2137 rows x 7 columns]"
      ]
     },
     "execution_count": 23,
     "metadata": {},
     "output_type": "execute_result"
    }
   ],
   "source": [
    "df"
   ]
  },
  {
   "cell_type": "code",
   "execution_count": null,
   "metadata": {},
   "outputs": [
    {
     "name": "stderr",
     "output_type": "stream",
     "text": [
      "/tmp/ipykernel_936592/57165034.py:1: DeprecationWarning: DataFrameGroupBy.apply operated on the grouping columns. This behavior is deprecated, and in a future version of pandas the grouping columns will be excluded from the operation. Either pass `include_groups=False` to exclude the groupings or explicitly select the grouping columns after groupby to silence this warning.\n",
      "  df.groupby(\"MatchID\").apply(lambda x : accuracy_score(x['label'], x['y_pred'])).mean()\n"
     ]
    },
    {
     "data": {
      "text/plain": [
       "0.6469408421576401"
      ]
     },
     "execution_count": 28,
     "metadata": {},
     "output_type": "execute_result"
    }
   ],
   "source": [
    "df.groupby(\"MatchID\").apply(lambda x : accuracy_score(x['label'], x['y_pred']))"
   ]
  }
 ],
 "metadata": {
  "kernelspec": {
   "display_name": "Python 3",
   "language": "python",
   "name": "python3"
  },
  "language_info": {
   "codemirror_mode": {
    "name": "ipython",
    "version": 3
   },
   "file_extension": ".py",
   "mimetype": "text/x-python",
   "name": "python",
   "nbconvert_exporter": "python",
   "pygments_lexer": "ipython3",
   "version": "3.11.9"
  }
 },
 "nbformat": 4,
 "nbformat_minor": 2
}
